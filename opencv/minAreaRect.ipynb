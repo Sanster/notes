{
 "cells": [
  {
   "cell_type": "markdown",
   "metadata": {},
   "source": [
    "# 不同的 opencv 版本，minAreaRect 返回的角度不同\n",
    "\n",
    "相关 issue：https://github.com/opencv/opencv/issues/19472"
   ]
  },
  {
   "cell_type": "code",
   "execution_count": 3,
   "metadata": {},
   "outputs": [
    {
     "name": "stdout",
     "output_type": "stream",
     "text": [
      "-0.7440592050552368\n",
      "-1.569354772567749\n"
     ]
    },
    {
     "name": "stderr",
     "output_type": "stream",
     "text": [
      "/Users/qing/.pyenv/versions/3.7.8/lib/python3.7/site-packages/ipykernel_launcher.py:10: DeprecationWarning: `np.int` is a deprecated alias for the builtin `int`. To silence this warning, use `int` by itself. Doing this will not modify any behavior and is safe. When replacing `np.int`, you may wish to use e.g. `np.int64` or `np.int32` to specify the precision. If you wish to review your current use, check the release note link for additional information.\n",
      "Deprecated in NumPy 1.20; for more details and guidance: https://numpy.org/devdocs/release/1.20.0-notes.html#deprecations\n",
      "  # Remove the CWD from sys.path while we load stuff.\n"
     ]
    }
   ],
   "source": [
    "# 3.4.4.19\n",
    "import cv2\n",
    "import numpy as np\n",
    "\n",
    "points = [\n",
    "    [(862, 915), (861, 874), (1015, 872), (1015, 913)],\n",
    "    [(872, 1099), (871, 1058), (1017, 1054), (1018, 1095)]\n",
    "]\n",
    "\n",
    "for it in points:\n",
    "    rect = cv2.minAreaRect(np.array(it).astype(np.int))\n",
    "    print(rect[-1])\n",
    "                        "
   ]
  },
  {
   "cell_type": "code",
   "execution_count": 1,
   "metadata": {},
   "outputs": [
    {
     "name": "stdout",
     "output_type": "stream",
     "text": [
      "89.25594329833984\n",
      "88.4306411743164\n"
     ]
    },
    {
     "name": "stderr",
     "output_type": "stream",
     "text": [
      "/Users/qing/.pyenv/versions/3.7.8/lib/python3.7/site-packages/ipykernel_launcher.py:10: DeprecationWarning: `np.int` is a deprecated alias for the builtin `int`. To silence this warning, use `int` by itself. Doing this will not modify any behavior and is safe. When replacing `np.int`, you may wish to use e.g. `np.int64` or `np.int32` to specify the precision. If you wish to review your current use, check the release note link for additional information.\n",
      "Deprecated in NumPy 1.20; for more details and guidance: https://numpy.org/devdocs/release/1.20.0-notes.html#deprecations\n",
      "  # Remove the CWD from sys.path while we load stuff.\n"
     ]
    }
   ],
   "source": [
    "# 4.5.2.54\n",
    "import cv2\n",
    "import numpy as np\n",
    "\n",
    "points = [\n",
    "    [(862, 915), (861, 874), (1015, 872), (1015, 913)],\n",
    "    [(872, 1099), (871, 1058), (1017, 1054), (1018, 1095)]\n",
    "]\n",
    "\n",
    "for it in points:\n",
    "    rect = cv2.minAreaRect(np.array(it).astype(np.int))\n",
    "    print(rect[-1])"
   ]
  }
 ],
 "metadata": {
  "kernelspec": {
   "display_name": "Python 3",
   "language": "python",
   "name": "python3"
  },
  "language_info": {
   "codemirror_mode": {
    "name": "ipython",
    "version": 3
   },
   "file_extension": ".py",
   "mimetype": "text/x-python",
   "name": "python",
   "nbconvert_exporter": "python",
   "pygments_lexer": "ipython3",
   "version": "3.7.8"
  }
 },
 "nbformat": 4,
 "nbformat_minor": 4
}
