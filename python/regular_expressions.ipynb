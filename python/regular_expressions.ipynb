{
 "cells": [
  {
   "cell_type": "code",
   "execution_count": null,
   "metadata": {},
   "outputs": [],
   "source": [
    "# https://pymotw.com/3/re/index.html"
   ]
  },
  {
   "cell_type": "code",
   "execution_count": 28,
   "metadata": {},
   "outputs": [
    {
     "name": "stdout",
     "output_type": "stream",
     "text": [
      "<_sre.SRE_Match object; span=(5, 9), match='this'>\n",
      "Found <_sre.SRE_Match object; span=(5, 9), match='this'>\n",
      "Found \"this\" in \"Does this text match the pattern?\"\n",
      "from 5 to 9 (\"this\")\n",
      "Pattern not exist in text, match = None\n"
     ]
    }
   ],
   "source": [
    "\"\"\"\n",
    "Finding Patterns in Text\n",
    "\"\"\" \n",
    "import re\n",
    "pattern = 'this'\n",
    "text = 'Does this text match the pattern?'\n",
    "match = re.search(pattern, text)\n",
    "s = match.start()\n",
    "e = match.end()\n",
    "\n",
    "print(match)\n",
    "print('Found \"{}\" in \"{}\"\\nfrom {} to {} (\"{}\")'.format(\\\n",
    "    match.re.pattern, match.string,s,e,text[s:e]))\n",
    "\n",
    "pattern_not_exist = 'that'\n",
    "match = re.search(pattern_not_exist, text)\n",
    "print('Pattern not exist in text, match = {}'.format(match))"
   ]
  },
  {
   "cell_type": "code",
   "execution_count": 24,
   "metadata": {},
   "outputs": [
    {
     "name": "stdout",
     "output_type": "stream",
     "text": [
      "<class '_sre.SRE_Pattern'>\n",
      "Found \"this\"\n"
     ]
    }
   ],
   "source": [
    "\"\"\"\n",
    "Compiling Expressions\n",
    "\"\"\"\n",
    "import re\n",
    "p = 'this'\n",
    "# 表达式编译以后运行更高效\n",
    "# 不编译直接使用，python 也会做 cache，但是 cache 容量有限，而且还有查找的开销\n",
    "# 可以在模块加载时就预编译好表达式，避免第一次运行时编译\n",
    "regex = re.compile(p)\n",
    "print(regex.__class__)\n",
    "text = 'Does this text match the pattern?'\n",
    "if regex.search(text):\n",
    "    print('Found \"{}\"'.format(p))"
   ]
  },
  {
   "cell_type": "code",
   "execution_count": 37,
   "metadata": {},
   "outputs": [
    {
     "name": "stdout",
     "output_type": "stream",
     "text": [
      "Found 'abb'\n",
      "Found 'abb'\n",
      "<_sre.SRE_Match object; span=(0, 3), match='abb'>\n",
      "Found 'abb' at 0:3\n",
      "<_sre.SRE_Match object; span=(5, 8), match='abb'>\n",
      "Found 'abb' at 5:8\n"
     ]
    }
   ],
   "source": [
    "\"\"\"\n",
    "Multiple Matches\n",
    "\"\"\"\n",
    "import re\n",
    "\n",
    "text = 'abbaaabbbbaaaaa'\n",
    "pattern = 'abb'\n",
    "\n",
    "# findall 仅返回 text 中匹配到的字符串\n",
    "for match in re.findall(pattern, text):\n",
    "    print('Found {!r}'.format(match))\n",
    "\n",
    "# finditer 返回 MatchObject 的 iterator\n",
    "for match in re.finditer(pattern, text):\n",
    "    s = match.start()\n",
    "    e = match.end()\n",
    "    print(match)\n",
    "    print('Found {!r} at {:d}:{:d}'.format(\n",
    "        text[s:e], s, e))"
   ]
  },
  {
   "cell_type": "code",
   "execution_count": 40,
   "metadata": {},
   "outputs": [
    {
     "name": "stdout",
     "output_type": "stream",
     "text": [
      "'ab' ('a' followed by 'b')\n",
      "\n",
      "  abbaaabbbbaaaaa\n",
      "  ab\n",
      "  .....ab\n",
      "\n"
     ]
    }
   ],
   "source": [
    "\"\"\"\n",
    "Pattern Syntax\n",
    "\"\"\"\n",
    "def test_patterns(text, patterns):\n",
    "    \"\"\"Given source text and a list of patterns, look for\n",
    "    matches for each pattern within the text and print\n",
    "    them to stdout.\n",
    "    \"\"\"\n",
    "    # Look for each pattern in the text and print the results\n",
    "    for pattern, desc in patterns:\n",
    "        print(\"'{}' ({})\\n\".format(pattern, desc))\n",
    "        print(\"  {}\".format(text))\n",
    "        for match in re.finditer(pattern, text):\n",
    "            s = match.start()\n",
    "            e = match.end()\n",
    "            substr = text[s:e]\n",
    "            n_backslashes = text[:s].count('\\\\')\n",
    "            prefix = '.' * (s + n_backslashes)\n",
    "            print(\"  {}{}\".format(prefix, substr))\n",
    "        print()\n",
    "\n",
    "test_patterns('abbaaabbbbaaaaa',[('ab', \"'a' followed by 'b'\"),\n",
    "                   ])"
   ]
  },
  {
   "cell_type": "code",
   "execution_count": 44,
   "metadata": {},
   "outputs": [
    {
     "name": "stdout",
     "output_type": "stream",
     "text": [
      "'ab*' (a followed by zero or more b)\n",
      "\n",
      "  abbaabbba\n",
      "  abb\n",
      "  ...a\n",
      "  ....abbb\n",
      "  ........a\n",
      "\n",
      "'ab+' (a followed by one or more b)\n",
      "\n",
      "  abbaabbba\n",
      "  abb\n",
      "  ....abbb\n",
      "\n",
      "'ab?' (a followed by zero or one b)\n",
      "\n",
      "  abbaabbba\n",
      "  ab\n",
      "  ...a\n",
      "  ....ab\n",
      "  ........a\n",
      "\n",
      "'ab{3}' (a followed by three b)\n",
      "\n",
      "  abbaabbba\n",
      "  ....abbb\n",
      "\n",
      "'ab{2,3}' (a followed by two to three b)\n",
      "\n",
      "  abbaabbba\n",
      "  abb\n",
      "  ....abbb\n",
      "\n",
      "'ab{0,3}' (a followed by zero to three b)\n",
      "\n",
      "  abbaabbba\n",
      "  abb\n",
      "  ...a\n",
      "  ....abbb\n",
      "  ........a\n",
      "\n"
     ]
    }
   ],
   "source": [
    "\"\"\"\n",
    "meta-character:\n",
    "*：重复 0 或多次\n",
    "+：至少出现一次\n",
    "?：重复 0 或 1 次\n",
    "{m}：必须出现 m 次\n",
    "{m,n}：出现 m 到 n 次\n",
    "{m,}：至少出现 m 次\n",
    "\"\"\"\n",
    "test_patterns(\n",
    "    'abbaabbba',\n",
    "    [('ab*', 'a followed by zero or more b'),\n",
    "     ('ab+', 'a followed by one or more b'),\n",
    "     ('ab?', 'a followed by zero or one b'),\n",
    "     ('ab{3}', 'a followed by three b'),\n",
    "     ('ab{2,3}', 'a followed by two to three b'),\n",
    "     ('ab{0,3}', 'a followed by zero to three b')],\n",
    ")"
   ]
  },
  {
   "cell_type": "code",
   "execution_count": 53,
   "metadata": {},
   "outputs": [
    {
     "name": "stdout",
     "output_type": "stream",
     "text": [
      "'ab*?' (a followed by zero or more b)\n",
      "\n",
      "  abbaabbba\n",
      "  a\n",
      "  ...a\n",
      "  ....a\n",
      "  ........a\n",
      "\n",
      "'ab+?' (a followed by one or more b)\n",
      "\n",
      "  abbaabbba\n",
      "  ab\n",
      "  ....ab\n",
      "\n",
      "'ab??' (a followed by zero or one b)\n",
      "\n",
      "  abbaabbba\n",
      "  a\n",
      "  ...a\n",
      "  ....a\n",
      "  ........a\n",
      "\n",
      "'ab{3}?' (a followed by three b)\n",
      "\n",
      "  abbaabbba\n",
      "  ....abbb\n",
      "\n",
      "'ab{2,3}?' (a followed by two to three b)\n",
      "\n",
      "  abbaabbba\n",
      "  abb\n",
      "  ....abb\n",
      "\n"
     ]
    }
   ],
   "source": [
    "\"\"\"\n",
    "re 模块默认使用 greedy 策略\n",
    "例如 'ab*' 是允许 a 后面跟 0 个或多个 b，对于 'abb' 字符串，\n",
    "greedy 策略下会找到 'abb'，禁止 greedy 策略只会找到 'a'\n",
    "可以在正则表达式的最后加上 '?' 来禁止 greedy 策略\n",
    "\"\"\"\n",
    "test_patterns(\n",
    "    'abbaabbba',\n",
    "    [('ab*?', 'a followed by zero or more b'),\n",
    "     ('ab+?', 'a followed by one or more b'),\n",
    "     ('ab??', 'a followed by zero or one b'),\n",
    "     ('ab{3}?', 'a followed by three b'),\n",
    "     ('ab{2,3}?', 'a followed by two to three b')],\n",
    ")"
   ]
  },
  {
   "cell_type": "code",
   "execution_count": 55,
   "metadata": {},
   "outputs": [
    {
     "name": "stdout",
     "output_type": "stream",
     "text": [
      "'[ab]' (either a or b)\n",
      "\n",
      "  abbaabbba\n",
      "  a\n",
      "  .b\n",
      "  ..b\n",
      "  ...a\n",
      "  ....a\n",
      "  .....b\n",
      "  ......b\n",
      "  .......b\n",
      "  ........a\n",
      "\n",
      "'a[ab]+' (a followed by 1 or more a or b)\n",
      "\n",
      "  abbaabbba\n",
      "  abbaabbba\n",
      "\n",
      "'a[ab]+?' (a followed by 1 or more a or b, not greedy)\n",
      "\n",
      "  abbaabbba\n",
      "  ab\n",
      "  ...aa\n",
      "\n"
     ]
    }
   ],
   "source": [
    "\"\"\"\n",
    "Character Sets：在 '[]' 的字符串中任意 match 一个\n",
    "\"\"\"\n",
    "test_patterns(\n",
    "    'abbaabbba',\n",
    "    [('[ab]', 'either a or b'),\n",
    "     ('a[ab]+', 'a followed by 1 or more a or b'),\n",
    "     ('a[ab]+?', 'a followed by 1 or more a or b, not greedy')],\n",
    ")"
   ]
  },
  {
   "cell_type": "code",
   "execution_count": 58,
   "metadata": {},
   "outputs": [
    {
     "name": "stdout",
     "output_type": "stream",
     "text": [
      "'[^-. ]+' (sequences without -, ., or space)\n",
      "\n",
      "  This is some text -- with punctuation.\n",
      "  This\n",
      "  .....is\n",
      "  ........some\n",
      "  .............text\n",
      "  .....................with\n",
      "  ..........................punctuation\n",
      "\n"
     ]
    }
   ],
   "source": [
    "\"\"\"\n",
    "找到所有不包含 '-', '.' 和空格的 substrings\n",
    "\"\"\"\n",
    "test_patterns(\n",
    "    'This is some text -- with punctuation.',\n",
    "    [('[^-. ]+', 'sequences without -, ., or space')],\n",
    ")"
   ]
  },
  {
   "cell_type": "code",
   "execution_count": 63,
   "metadata": {},
   "outputs": [
    {
     "name": "stdout",
     "output_type": "stream",
     "text": [
      "'[a-z]+' (sequences of lowercase letters)\n",
      "\n",
      "  This is some text -- with punctuation.\n",
      "  .his\n",
      "  .....is\n",
      "  ........some\n",
      "  .............text\n",
      "  .....................with\n",
      "  ..........................punctuation\n",
      "\n",
      "'[A-Z]+' (sequences of uppercase letters)\n",
      "\n",
      "  This is some text -- with punctuation.\n",
      "  T\n",
      "\n",
      "'[a-zA-Z]+' (sequences of letters of either case)\n",
      "\n",
      "  This is some text -- with punctuation.\n",
      "  This\n",
      "  .....is\n",
      "  ........some\n",
      "  .............text\n",
      "  .....................with\n",
      "  ..........................punctuation\n",
      "\n",
      "'[A-Z][a-z]+' (one uppercase followed by lowercase)\n",
      "\n",
      "  This is some text -- with punctuation.\n",
      "  This\n",
      "\n"
     ]
    }
   ],
   "source": [
    "\"\"\"\n",
    "使用 '-' 符号表示候选字符范围\n",
    "\"\"\"\n",
    "test_patterns(\n",
    "    'This is some text -- with punctuation.',\n",
    "    [('[a-z]+', 'sequences of lowercase letters'),\n",
    "     ('[A-Z]+', 'sequences of uppercase letters'),\n",
    "     ('[a-zA-Z]+', 'sequences of letters of either case'),\n",
    "     ('[A-Z][a-z]+', 'one uppercase followed by lowercase')],\n",
    ")"
   ]
  },
  {
   "cell_type": "code",
   "execution_count": 66,
   "metadata": {},
   "outputs": [
    {
     "name": "stdout",
     "output_type": "stream",
     "text": [
      "'a.' (a followed by any one character)\n",
      "\n",
      "  abbaabbba\n",
      "  ab\n",
      "  ...aa\n",
      "\n",
      "'b.' (b followed by any one character)\n",
      "\n",
      "  abbaabbba\n",
      "  .bb\n",
      "  .....bb\n",
      "  .......ba\n",
      "\n",
      "'a.*b' (a followed by anything, ending in b)\n",
      "\n",
      "  abbaabbba\n",
      "  abbaabbb\n",
      "\n",
      "'a.*?b' (a followed by anything, ending in b)\n",
      "\n",
      "  abbaabbba\n",
      "  ab\n",
      "  ...aab\n",
      "\n"
     ]
    }
   ],
   "source": [
    "\"\"\"\n",
    "'.' 可以表示任意字符\n",
    "\"\"\"\n",
    "test_patterns(\n",
    "    'abbaabbba',\n",
    "    [('a.', 'a followed by any one character'),\n",
    "     ('b.', 'b followed by any one character'),\n",
    "     ('a.*b', 'a followed by anything, ending in b'),\n",
    "     ('a.*?b', 'a followed by anything, ending in b')],\n",
    ")"
   ]
  },
  {
   "cell_type": "code",
   "execution_count": 70,
   "metadata": {},
   "outputs": [
    {
     "name": "stdout",
     "output_type": "stream",
     "text": [
      "'\\d+' (sequence of digits)\n",
      "\n",
      "  A prime #1 345 example!\n",
      "  .........1\n",
      "  ...........345\n",
      "\n",
      "'\\D+' (sequence of non-digits)\n",
      "\n",
      "  A prime #1 345 example!\n",
      "  A prime #\n",
      "  .......... \n",
      "  .............. example!\n",
      "\n",
      "'\\s+' (sequence of whitespace)\n",
      "\n",
      "  A prime #1 345 example!\n",
      "  . \n",
      "  ....... \n",
      "  .......... \n",
      "  .............. \n",
      "\n",
      "'\\S+' (sequence of non-whitespace)\n",
      "\n",
      "  A prime #1 345 example!\n",
      "  A\n",
      "  ..prime\n",
      "  ........#1\n",
      "  ...........345\n",
      "  ...............example!\n",
      "\n",
      "'\\w+' (alphanumeric characters)\n",
      "\n",
      "  A prime #1 345 example!\n",
      "  A\n",
      "  ..prime\n",
      "  .........1\n",
      "  ...........345\n",
      "  ...............example\n",
      "\n",
      "'\\W+' (non-alphanumeric)\n",
      "\n",
      "  A prime #1 345 example!\n",
      "  . \n",
      "  ....... #\n",
      "  .......... \n",
      "  .............. \n",
      "  ......................!\n",
      "\n"
     ]
    }
   ],
   "source": [
    "\"\"\"\n",
    "转义字符，数字、非数字、空白符等\n",
    "\"\"\"\n",
    "test_patterns(\n",
    "    'A prime #1 345 example!',\n",
    "    [(r'\\d+', 'sequence of digits'),\n",
    "     (r'\\D+', 'sequence of non-digits'),\n",
    "     (r'\\s+', 'sequence of whitespace'),\n",
    "     (r'\\S+', 'sequence of non-whitespace'),\n",
    "     (r'\\w+', 'alphanumeric characters'),\n",
    "     (r'\\W+', 'non-alphanumeric')],\n",
    ")"
   ]
  },
  {
   "cell_type": "code",
   "execution_count": 95,
   "metadata": {},
   "outputs": [
    {
     "name": "stdout",
     "output_type": "stream",
     "text": [
      "'^\\w+' (word at start of string)\n",
      "\n",
      "  Thi3s is some text text1 2text -- with punctuation.\n",
      "  Thi3s\n",
      "\n",
      "'\\A\\w+' (word at start of string)\n",
      "\n",
      "  Thi3s is some text text1 2text -- with punctuation.\n",
      "  Thi3s\n",
      "\n",
      "'\\w+\\S$' (word near end of string)\n",
      "\n",
      "  Thi3s is some text text1 2text -- with punctuation.\n",
      "  .......................................punctuation.\n",
      "\n",
      "'\\w+\\S*\\Z' (word near end of string)\n",
      "\n",
      "  Thi3s is some text text1 2text -- with punctuation.\n",
      "  .......................................punctuation.\n",
      "\n",
      "'\\w*t\\w*' (word containing t)\n",
      "\n",
      "  Thi3s is some text text1 2text -- with punctuation.\n",
      "  ..............text\n",
      "  ...................text1\n",
      "  .........................2text\n",
      "  ..................................with\n",
      "  .......................................punctuation\n",
      "\n",
      "'\\bt\\w+' (t at start of word)\n",
      "\n",
      "  Thi3s is some text text1 2text -- with punctuation.\n",
      "  ..............text\n",
      "  ...................text1\n",
      "\n",
      "'\\w+t\\b' (t at end of word)\n",
      "\n",
      "  Thi3s is some text text1 2text -- with punctuation.\n",
      "  ..............text\n",
      "  .........................2text\n",
      "\n",
      "'\\Bt\\B' (t, not start or end of word)\n",
      "\n",
      "  Thi3s is some text text1 2text -- with punctuation.\n",
      "  ......................t\n",
      "  ..........................t\n",
      "  ....................................t\n",
      "  ...........................................t\n",
      "  ..............................................t\n",
      "\n",
      "'\\w*\\Bt\\B\\w*' (t, not start or end of word，包含不处于开头或结尾的 t)\n",
      "\n",
      "  Thi3s is some text text1 2text -- with punctuation.\n",
      "  ...................text1\n",
      "  .........................2text\n",
      "  ..................................with\n",
      "  .......................................punctuation\n",
      "\n",
      "'\\S+t\\S+' (t, 不包含处于开头或结尾的 t)\n",
      "\n",
      "  Thi3s is some text text1 2text -- with punctuation.\n",
      "  ...................text1\n",
      "  .........................2text\n",
      "  ..................................with\n",
      "  .......................................punctuation.\n",
      "\n"
     ]
    }
   ],
   "source": [
    "\"\"\"\n",
    "Anchoring\n",
    "\"\"\"\n",
    "test_patterns(\n",
    "    'Thi3s is some text text1 2text -- with punctuation.',\n",
    "    [(r'^\\w+', 'word at start of string'),\n",
    "     (r'\\A\\w+', 'word at start of string'),\n",
    "     (r'\\w+\\S$', 'word near end of string'), # \\w+ 不会匹配到字符串最后的 '.'，所以要加一个 '\\S'\n",
    "     (r'\\w+\\S*\\Z', 'word near end of string'),\n",
    "     (r'\\w*t\\w*', 'word containing t'),\n",
    "     (r'\\bt\\w+', 't at start of word'),\n",
    "     (r'\\w+t\\b', 't at end of word'),\n",
    "     (r'\\Bt\\B', 't, not start or end of word'),\n",
    "     (r'\\w*\\Bt\\B\\w*', 't, not start or end of word，包含不处于开头或结尾的 t'),\n",
    "    (r'\\S+t\\S+', 't, 不包含处于开头或结尾的 t')],\n",
    ")"
   ]
  }
 ],
 "metadata": {
  "kernelspec": {
   "display_name": "Python 3",
   "language": "python",
   "name": "python3"
  },
  "language_info": {
   "codemirror_mode": {
    "name": "ipython",
    "version": 3
   },
   "file_extension": ".py",
   "mimetype": "text/x-python",
   "name": "python",
   "nbconvert_exporter": "python",
   "pygments_lexer": "ipython3",
   "version": "3.6.3"
  }
 },
 "nbformat": 4,
 "nbformat_minor": 2
}
