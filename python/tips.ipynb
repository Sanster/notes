{
 "cells": [
  {
   "cell_type": "code",
   "execution_count": 2,
   "metadata": {},
   "outputs": [
    {
     "name": "stdout",
     "output_type": "stream",
     "text": [
      "/home/usr/lib\n"
     ]
    }
   ],
   "source": [
    "\"\"\"\n",
    "使用 `/` 代替 os.path.join\n",
    "\"\"\"\n",
    "from pathlib import Path\n",
    "\n",
    "dir_name = \"lib\"\n",
    "root_path = Path(\"/home/usr\")\n",
    "\n",
    "lib_path = root_path / dir_name\n",
    "\n",
    "print(lib_path) # /home/usr/lib"
   ]
  },
  {
   "cell_type": "code",
   "execution_count": 21,
   "metadata": {},
   "outputs": [
    {
     "name": "stdout",
     "output_type": "stream",
     "text": [
      "defaultdict(<class 'list'>, {1: [1], 2: [2, 2]})\n",
      "defaultdict(<class 'int'>, {1: 1, 2: 2})\n"
     ]
    }
   ],
   "source": [
    "\"\"\"\n",
    "内置数据类型 defaultdict\n",
    "\"\"\"\n",
    "from collections import defaultdict\n",
    "\n",
    "pairs= [\n",
    "    (1, 1),\n",
    "    (2, 2),\n",
    "    (2, 2)\n",
    "]\n",
    "# 字典中的元素内 list，需要在循环当中初始化 list\n",
    "d = defaultdict(list)\n",
    "for key, value in pairs:\n",
    "    d[key].append(value)\n",
    "print(d)\n",
    "\n",
    "\n",
    "d = defaultdict(int)\n",
    "for key, value in pairs:\n",
    "    d[key] += 1\n",
    "print(d)"
   ]
  },
  {
   "cell_type": "code",
   "execution_count": 24,
   "metadata": {},
   "outputs": [
    {
     "name": "stdout",
     "output_type": "stream",
     "text": [
      "Counter({2: 3, 3: 2, 4: 2, 1: 1})\n",
      "[(2, 3), (3, 2)]\n"
     ]
    }
   ],
   "source": [
    "\"\"\"\n",
    "内置数据类型 Counter\n",
    "\"\"\"\n",
    "from collections import Counter  \n",
    "a = [1,4,2,3,2,3,4,2]\n",
    "\n",
    "# 统计数组中的元素出现了几次\n",
    "counter = Counter(a)\n",
    "print(counter)\n",
    "\n",
    "# 输出出现次数最多的前两个\n",
    "print(counter.most_common(2))"
   ]
  },
  {
   "cell_type": "code",
   "execution_count": 36,
   "metadata": {},
   "outputs": [
    {
     "name": "stdout",
     "output_type": "stream",
     "text": [
      "now\n",
      "In decorator: execute now():\n",
      "2013-12-25\n"
     ]
    }
   ],
   "source": [
    "\"\"\"\n",
    "装饰器 Decorator：在不修改原函数的情况下，为函数添加新的功能，实现代码复用、逻辑分离\n",
    "\"\"\"\n",
    "import functools\n",
    "\n",
    "def log(text):\n",
    "    def decorator(func):\n",
    "        @functools.wraps(func) # 确保加了装饰器后的函数名与原来相同\n",
    "        def wrapper(*args, **kw):\n",
    "            print('In decorator: %s %s():' % (text, func.__name__))\n",
    "            return func(*args, **kw)\n",
    "        return wrapper\n",
    "    return decorator\n",
    "\n",
    "@log('execute')\n",
    "def now():\n",
    "    print('2013-12-25')\n",
    "\n",
    "print(now.__name__) # 因为加了 @functools.wraps(func)，所以函数名仍为 now\n",
    "now()"
   ]
  },
  {
   "cell_type": "code",
   "execution_count": null,
   "metadata": {},
   "outputs": [],
   "source": []
  }
 ],
 "metadata": {
  "kernelspec": {
   "display_name": "Python 3",
   "language": "python",
   "name": "python3"
  },
  "language_info": {
   "codemirror_mode": {
    "name": "ipython",
    "version": 3
   },
   "file_extension": ".py",
   "mimetype": "text/x-python",
   "name": "python",
   "nbconvert_exporter": "python",
   "pygments_lexer": "ipython3",
   "version": "3.5.2"
  }
 },
 "nbformat": 4,
 "nbformat_minor": 2
}
