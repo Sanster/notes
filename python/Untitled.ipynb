{
 "cells": [
  {
   "cell_type": "code",
   "execution_count": 17,
   "metadata": {},
   "outputs": [
    {
     "name": "stdout",
     "output_type": "stream",
     "text": [
      "0.5555555555555556\n",
      "Match(a=0, b=0, size=1)\n",
      "a: 社\n",
      "b: 社\n",
      "Match(a=4, b=1, size=1)\n",
      "a: 会\n",
      "b: 会\n",
      "Match(a=5, b=5, size=1)\n",
      "a: 保\n",
      "b: 保\n",
      "Match(a=7, b=7, size=2)\n",
      "a: 号码\n",
      "b: 号码\n"
     ]
    }
   ],
   "source": [
    "import difflib\n",
    "\n",
    "a = '社456会保障号码'\n",
    "b = '社会123保证号码'\n",
    "eq = difflib.SequenceMatcher()\n",
    "eq.set_seqs(a, b)\n",
    "print(eq.ratio())\n",
    "\n",
    "for m in eq.get_matching_blocks()[:-1]:\n",
    "    print(m)\n",
    "    print(f\"a: {a[m.a:m.a + m.size]}\")\n",
    "    print(f\"b: {b[m.b:m.b + m.size]}\")"
   ]
  }
 ],
 "metadata": {
  "kernelspec": {
   "display_name": "Python 3",
   "language": "python",
   "name": "python3"
  },
  "language_info": {
   "codemirror_mode": {
    "name": "ipython",
    "version": 3
   },
   "file_extension": ".py",
   "mimetype": "text/x-python",
   "name": "python",
   "nbconvert_exporter": "python",
   "pygments_lexer": "ipython3",
   "version": "3.6.5"
  }
 },
 "nbformat": 4,
 "nbformat_minor": 4
}
