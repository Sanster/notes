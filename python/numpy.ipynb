{
 "cells": [
  {
   "cell_type": "markdown",
   "metadata": {},
   "source": [
    "## array_split\n",
    "均分一个 array，每一个 array 包含的元素个数可以不同"
   ]
  },
  {
   "cell_type": "code",
   "execution_count": 6,
   "metadata": {},
   "outputs": [
    {
     "data": {
      "text/plain": [
       "[array([ 0.,  1.,  2.]), array([ 3.,  4.,  5.]), array([ 6.,  7.])]"
      ]
     },
     "execution_count": 6,
     "metadata": {},
     "output_type": "execute_result"
    }
   ],
   "source": [
    "import numpy as np\n",
    "x = np.arange(8.0)\n",
    "np.array_split(x, 3)"
   ]
  },
  {
   "cell_type": "markdown",
   "metadata": {},
   "source": [
    "## random.choice\n",
    "输入的参数最好是 ndarray，否则每次 choice 会很慢"
   ]
  },
  {
   "cell_type": "code",
   "execution_count": 9,
   "metadata": {},
   "outputs": [
    {
     "name": "stdout",
     "output_type": "stream",
     "text": [
      "Converted to ndarray, time: 0.011936 s\n",
      "Directly choice on data, time: 8.172723 s\n"
     ]
    }
   ],
   "source": [
    "import multiprocessing as mp\n",
    "import time\n",
    "import numpy as np\n",
    "\n",
    "data = [\"a\"*5000 for _ in range(1000)]\n",
    "num_loop=1000\n",
    "\n",
    "np_data = np.asarray(data)\n",
    "start = time.time()\n",
    "\n",
    "for i in range(num_loop):\n",
    "    np.random.choice(np_data)\n",
    "\n",
    "end = time.time()\n",
    "print(\"Converted to ndarray, time: %f s\" % (end-start))\n",
    "\n",
    "start = time.time()\n",
    "\n",
    "for i in range(num_loop):\n",
    "    np.random.choice(data)\n",
    "\n",
    "end = time.time()\n",
    "print(\"Directly choice on data, time: %f s\" % (end-start))"
   ]
  }
 ],
 "metadata": {
  "kernelspec": {
   "display_name": "Python 3",
   "language": "python",
   "name": "python3"
  },
  "language_info": {
   "codemirror_mode": {
    "name": "ipython",
    "version": 3
   },
   "file_extension": ".py",
   "mimetype": "text/x-python",
   "name": "python",
   "nbconvert_exporter": "python",
   "pygments_lexer": "ipython3",
   "version": "3.6.3"
  }
 },
 "nbformat": 4,
 "nbformat_minor": 2
}
