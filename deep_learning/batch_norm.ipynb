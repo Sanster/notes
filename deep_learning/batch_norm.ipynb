{
 "cells": [
  {
   "cell_type": "code",
   "execution_count": 51,
   "metadata": {},
   "outputs": [
    {
     "name": "stdout",
     "output_type": "stream",
     "text": [
      "torch mean tensor([ 0.0004,  0.0069, -0.0023])\n",
      "torch var tensor([1.0069, 0.9950, 1.0013])\n",
      "bn mean tensor([ 0.0004,  0.0069, -0.0023])\n",
      "bn var tensor([1.0069, 0.9950, 1.0013])\n"
     ]
    }
   ],
   "source": [
    "from torch import nn\n",
    "import torch\n",
    "\n",
    "bn = nn.BatchNorm2d(3, momentum=1)  # bn设置的参数实际上是channel的参数\n",
    "input = torch.randn(4, 3, 128, 128)\n",
    "\n",
    "print('torch mean', torch.mean(input, dim=[0, 2, 3]))\n",
    "print('torch var', torch.var(input, dim=[0, 2, 3]))\n",
    "\n",
    "bn(input)\n",
    "print('bn mean', bn.running_mean)\n",
    "print('bn var', bn.running_var)"
   ]
  }
 ],
 "metadata": {
  "kernelspec": {
   "display_name": "Python 3",
   "language": "python",
   "name": "python3"
  },
  "language_info": {
   "codemirror_mode": {
    "name": "ipython",
    "version": 3
   },
   "file_extension": ".py",
   "mimetype": "text/x-python",
   "name": "python",
   "nbconvert_exporter": "python",
   "pygments_lexer": "ipython3",
   "version": "3.6.5"
  }
 },
 "nbformat": 4,
 "nbformat_minor": 2
}
