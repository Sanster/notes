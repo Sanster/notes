{
 "cells": [
  {
   "cell_type": "code",
   "execution_count": 11,
   "metadata": {},
   "outputs": [
    {
     "name": "stdout",
     "output_type": "stream",
     "text": [
      "torch mean tensor([0.0006, 0.0002, 0.0009])\n",
      "torch var tensor([1.0012, 0.9966, 0.9998])\n",
      "bn mean tensor([0.0006, 0.0002, 0.0009])\n",
      "bn var tensor([1.0012, 0.9966, 0.9998])\n",
      "[Parameter containing:\n",
      "tensor([6.6836e-01, 1.7763e-02, 4.9770e-04], requires_grad=True), Parameter containing:\n",
      "tensor([0., 0., 0.], requires_grad=True)]\n"
     ]
    }
   ],
   "source": [
    "from torch import nn\n",
    "import torch\n",
    "\n",
    "bn = nn.BatchNorm2d(3, momentum=1)  # bn设置的参数实际上是channel的参数\n",
    "input = torch.randn(4, 3, 128, 128)\n",
    "\n",
    "print('torch mean', torch.mean(input, dim=[0, 2, 3]))\n",
    "print('torch var', torch.var(input, dim=[0, 2, 3]))\n",
    "\n",
    "bn(input)\n",
    "print('bn mean', bn.running_mean)\n",
    "print('bn var', bn.running_var)\n",
    "\n",
    "# 每个通道有一个 trainable 的 weight 和 bias\n",
    "print(list(bn.parameters()))"
   ]
  }
 ],
 "metadata": {
  "kernelspec": {
   "display_name": "Python 3",
   "language": "python",
   "name": "python3"
  },
  "language_info": {
   "codemirror_mode": {
    "name": "ipython",
    "version": 3
   },
   "file_extension": ".py",
   "mimetype": "text/x-python",
   "name": "python",
   "nbconvert_exporter": "python",
   "pygments_lexer": "ipython3",
   "version": "3.6.5"
  }
 },
 "nbformat": 4,
 "nbformat_minor": 4
}
