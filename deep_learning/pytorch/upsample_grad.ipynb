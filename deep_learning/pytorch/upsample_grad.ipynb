{
 "cells": [
  {
   "cell_type": "code",
   "execution_count": 20,
   "metadata": {},
   "outputs": [
    {
     "name": "stdout",
     "output_type": "stream",
     "text": [
      "Shape befort model: torch.Size([1, 1, 4, 4])\n",
      "Shape after model: torch.Size([1, 1, 4, 4])\n",
      "------------------------------\n",
      "torch.Size([1, 1, 3, 3])\n",
      "tensor([[[[ 0.0897, -0.0081, -0.0439],\n",
      "          [-0.1440, -0.0855, -0.0509],\n",
      "          [-0.1515, -0.1220,  0.0123]]]])\n",
      "------------------------------\n",
      "torch.Size([1])\n",
      "tensor([0.3197])\n",
      "------------------------------\n",
      "torch.Size([1, 1, 3, 3])\n",
      "tensor([[[[-0.0252, -0.0365, -0.0348],\n",
      "          [-0.0541, -0.0637, -0.0575],\n",
      "          [-0.0463, -0.0548, -0.0470]]]])\n",
      "------------------------------\n",
      "torch.Size([1])\n",
      "tensor([-1.4214])\n",
      "------------------------------\n"
     ]
    }
   ],
   "source": [
    "import torch\n",
    "from torch import nn, optim\n",
    "\n",
    "class MyNet(nn.Module):\n",
    "    def __init__(self):\n",
    "        super(MyNet, self).__init__()\n",
    "        self.conv1 = nn.Conv2d(1, 1, 3, stride=1, padding=1)\n",
    "        self.conv2 = nn.Conv2d(1, 1, 3, stride=1, padding=1)\n",
    "    \n",
    "    def forward(self, x):\n",
    "        x = self.conv1(x)\n",
    "#         x = nn.functional.interpolate(x, scale_factor=2, mode='bilinear', align_corners=True)\n",
    "        x = nn.functional.relu(x)\n",
    "        x = self.conv2(x)\n",
    "        return x\n",
    "    \n",
    "model = MyNet()\n",
    "optimizer = optim.SGD(model.parameters(), lr=0.1)\n",
    "    \n",
    "x = torch.randn((1,1,4,4))\n",
    "y = torch.ones((1,1,4,4))\n",
    "mse_loss = nn.MSELoss()\n",
    "\n",
    "print('Shape befort model:', x.shape)\n",
    "output = model(x)\n",
    "print('Shape after model:', output.shape)\n",
    "\n",
    "optimizer.zero_grad()\n",
    "loss = mse_loss(output, y)\n",
    "loss.backward()\n",
    "optimizer.step()\n",
    "\n",
    "print('-'*30)\n",
    "for it in model.parameters():\n",
    "    print(it.shape)\n",
    "    print(it.grad)\n",
    "    print('-'*30)\n"
   ]
  },
  {
   "cell_type": "code",
   "execution_count": null,
   "metadata": {},
   "outputs": [],
   "source": []
  }
 ],
 "metadata": {
  "kernelspec": {
   "display_name": "Python 3",
   "language": "python",
   "name": "python3"
  },
  "language_info": {
   "codemirror_mode": {
    "name": "ipython",
    "version": 3
   },
   "file_extension": ".py",
   "mimetype": "text/x-python",
   "name": "python",
   "nbconvert_exporter": "python",
   "pygments_lexer": "ipython3",
   "version": "3.6.5"
  }
 },
 "nbformat": 4,
 "nbformat_minor": 4
}
