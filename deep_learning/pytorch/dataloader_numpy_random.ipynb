{
 "cells": [
  {
   "cell_type": "markdown",
   "metadata": {},
   "source": [
    "测试 https://github.com/pytorch/pytorch/issues/5059 中提到的 numpy 在多 num_workers 下的表现"
   ]
  },
  {
   "cell_type": "code",
   "execution_count": 61,
   "metadata": {},
   "outputs": [],
   "source": [
    "import numpy as np\n",
    "import pandas as pd\n",
    "import random\n",
    "from torch.utils.data import DataLoader\n",
    "import torch\n",
    "\n",
    "\n",
    "class Transform(object):\n",
    "    def __init__(self):\n",
    "        pass\n",
    "\n",
    "    def __call__(self, item = None):\n",
    "        return [np.random.randint(10000, 20000), random.randint(20000,30000)]\n",
    "\n",
    "class RandomDataset(object):\n",
    "\n",
    "    def __init__(self):\n",
    "        self.data = list(range(0, 10))\n",
    "        pass\n",
    "\n",
    "    def __getitem__(self, ind):\n",
    "        item = [ind, np.random.randint(1, 10000), np.random.choice([1, 2, 3]), random.randint(10000, 20000), random.choice([1,2,3])]\n",
    "        tsfm =Transform()(item)\n",
    "        return np.array(item + tsfm)\n",
    "    \n",
    "    def __len__(self):\n",
    "        return 10\n",
    "\n",
    "\n",
    "def show(num_workers):\n",
    "    print(f\"num_workers: {num_workers}\")\n",
    "    ds = RandomDataset()\n",
    "    torch.manual_seed(2)\n",
    "    ds = DataLoader(ds, 5, shuffle=True, num_workers=num_workers)\n",
    "    for epoch in range(2):\n",
    "        print(\"epoch {}\".format(epoch))\n",
    "        \n",
    "        for i, batch in enumerate(ds):\n",
    "            print(f'Batch {i}')\n",
    "            df = pd.DataFrame(batch.data.numpy(), columns=['idx', 'np', 'np choice', 'py', 'random.choice','np in transform', 'py in random'])\n",
    "            print(df)"
   ]
  },
  {
   "cell_type": "code",
   "execution_count": 67,
   "metadata": {},
   "outputs": [
    {
     "name": "stdout",
     "output_type": "stream",
     "text": [
      "num_workers: 1\n",
      "epoch 0\n",
      "Batch 0\n",
      "   idx    np  np choice     py  random.choice  np in transform  py in random\n",
      "0    1   236          1  11266              2            15192         21671\n",
      "1    0   906          2  11599              2            12895         22097\n",
      "2    8  5057          1  17929              3            14225         24997\n",
      "3    3  7752          2  15311              1            13462         22562\n",
      "4    4  9395          1  11679              1            15374         21155\n",
      "Batch 1\n",
      "   idx    np  np choice     py  random.choice  np in transform  py in random\n",
      "0    5  2963          1  12898              1            18444         29931\n",
      "1    6  3563          1  11257              2            18093         26077\n",
      "2    7  6543          3  11812              3            18151         21360\n",
      "3    2  3050          2  16004              2            19719         26752\n",
      "4    9  1889          3  13354              3            16285         26194\n",
      "epoch 1\n",
      "Batch 0\n",
      "   idx    np  np choice     py  random.choice  np in transform  py in random\n",
      "0    5   236          1  14850              1            15192         23843\n",
      "1    4   906          2  19213              2            12895         29237\n",
      "2    9  5057          1  12702              1            14225         25987\n",
      "3    6  7752          2  14172              1            13462         29803\n",
      "4    2  9395          1  15499              1            15374         26668\n",
      "Batch 1\n",
      "   idx    np  np choice     py  random.choice  np in transform  py in random\n",
      "0    3  2963          1  17739              3            18444         23544\n",
      "1    0  3563          1  17726              3            18093         28719\n",
      "2    8  6543          3  13287              2            18151         26953\n",
      "3    7  3050          2  15921              2            19719         28590\n",
      "4    1  1889          3  12939              3            16285         25735\n"
     ]
    }
   ],
   "source": [
    "show(num_workers=1)"
   ]
  },
  {
   "cell_type": "code",
   "execution_count": 23,
   "metadata": {},
   "outputs": [
    {
     "name": "stdout",
     "output_type": "stream",
     "text": [
      "num_workers: 2\n",
      "epoch 0\n",
      "Batch 0\n",
      "   idx    np  np choice     py  random.choice  np in transform  py in random\n",
      "0    4  6399          3  14191              1            18848         24341\n",
      "1    9  4116          2  15644              1            14743         26141\n",
      "2    7  6367          1  13437              3            17860         24379\n",
      "3    3  4943          1  19455              2            14707         28436\n",
      "4    6  5683          2  15887              3            11056         23981\n",
      "Batch 1\n",
      "   idx    np  np choice     py  random.choice  np in transform  py in random\n",
      "0    2  6399          3  19606              1            18848         29114\n",
      "1    1  4116          2  18526              3            14743         26015\n",
      "2    0  6367          1  18283              2            17860         24964\n",
      "3    8  4943          1  14430              1            14707         20084\n",
      "4    5  5683          2  13660              1            11056         21449\n",
      "epoch 1\n",
      "Batch 0\n",
      "   idx    np  np choice     py  random.choice  np in transform  py in random\n",
      "0    4  6399          3  19566              1            18848         22378\n",
      "1    9  4116          2  13622              1            14743         27673\n",
      "2    5  6367          1  12008              3            17860         21507\n",
      "3    6  4943          1  13154              2            14707         27164\n",
      "4    1  5683          2  12718              1            11056         26863\n",
      "Batch 1\n",
      "   idx    np  np choice     py  random.choice  np in transform  py in random\n",
      "0    8  6399          3  14232              2            18848         24305\n",
      "1    3  4116          2  18870              2            14743         20165\n",
      "2    0  6367          1  11689              2            17860         29675\n",
      "3    7  4943          1  18826              3            14707         22606\n",
      "4    2  5683          2  13668              2            11056         29669\n"
     ]
    }
   ],
   "source": [
    "show(num_workers=2)"
   ]
  },
  {
   "cell_type": "markdown",
   "metadata": {},
   "source": [
    "- 当 num_workers == 1 时，一个 epoch 中，不同 batch 出来的随机数是不一样的，但是每一个 epoch 出来的随机数是一样的\n",
    "- 当 num_workers >1 时，每一个 epoch 中的每一个 batch 出来的随机数都是一样的"
   ]
  },
  {
   "cell_type": "code",
   "execution_count": 13,
   "metadata": {},
   "outputs": [],
   "source": [
    "def worker_init_fn(worker_id):                                                          \n",
    "    np.random.seed(np.random.get_state()[1][0] + worker_id)\n",
    "    \n",
    "def correct_show(num_workers):\n",
    "    print(f\"num_workers: {num_workers}\")\n",
    "    ds = RandomDataset()\n",
    "    ds = DataLoader(ds, 5, shuffle=True, num_workers=num_workers, worker_init_fn=worker_init_fn, pin_memory=True)\n",
    "\n",
    "    for epoch in range(2):\n",
    "        print(\"epoch {}\".format(epoch))\n",
    "        np.random.seed()\n",
    "        for i, batch in enumerate(ds):\n",
    "            print(f'Batch {i}')\n",
    "            df = pd.DataFrame(batch.data.numpy(), columns=['idx', 'np', 'np choice', 'py', 'random.choice','np in transform', 'py in random'])\n",
    "            print(df)"
   ]
  },
  {
   "cell_type": "code",
   "execution_count": 16,
   "metadata": {},
   "outputs": [
    {
     "name": "stdout",
     "output_type": "stream",
     "text": [
      "num_workers: 0\n",
      "epoch 0\n",
      "Batch 0\n",
      "   idx    np  np choice     py  random.choice  np in transform  py in random\n",
      "0    1  8042          3  10649              1            18327         20172\n",
      "1    8  7622          1  14842              3            19989         29774\n",
      "2    5  8045          3  15246              2            17955         26410\n",
      "3    6  7560          3  15132              2            10421         21031\n",
      "4    9  3042          2  11051              2            17559         29854\n",
      "Batch 1\n",
      "   idx    np  np choice     py  random.choice  np in transform  py in random\n",
      "0    4  3289          1  17468              1            12840         24097\n",
      "1    7  3859          1  13525              3            18430         28895\n",
      "2    0  7048          3  17682              3            10116         25829\n",
      "3    3  4985          1  14244              1            13607         28873\n",
      "4    2  5371          2  13405              2            11273         23263\n",
      "epoch 1\n",
      "Batch 0\n",
      "   idx    np  np choice     py  random.choice  np in transform  py in random\n",
      "0    4  5647          1  14036              2            18969         21333\n",
      "1    3  9690          2  14600              1            15611         27338\n",
      "2    7  8501          3  11482              3            17595         29410\n",
      "3    5  1717          2  15552              1            11406         26397\n",
      "4    1  7170          3  15026              1            12306         25361\n",
      "Batch 1\n",
      "   idx    np  np choice     py  random.choice  np in transform  py in random\n",
      "0    8  3439          1  13060              2            18398         29486\n",
      "1    9  2945          2  14961              1            10207         25477\n",
      "2    0  9492          2  11653              3            12391         29486\n",
      "3    2  9171          3  19764              1            17485         24015\n",
      "4    6  4608          2  13607              1            17022         23993\n"
     ]
    }
   ],
   "source": [
    "correct_show(1)"
   ]
  },
  {
   "cell_type": "code",
   "execution_count": 60,
   "metadata": {},
   "outputs": [
    {
     "name": "stdout",
     "output_type": "stream",
     "text": [
      "num_workers: 4\n",
      "epoch 0\n",
      "Batch 0\n",
      "   idx    np  np choice     py  random.choice  np in transform  py in random\n",
      "0    5  9385          3  12768              2            16205         29849\n",
      "1    7  6114          2  15404              3            18732         21038\n",
      "2    0  9287          2  13753              2            19262         24205\n",
      "3    8  2603          1  15010              2            12931         25615\n",
      "4    4  4883          2  12705              3            14169         28304\n",
      "Batch 1\n",
      "   idx    np  np choice     py  random.choice  np in transform  py in random\n",
      "0    2  3639          3  15206              2            17072         22890\n",
      "1    3   265          3  17331              1            17994         24616\n",
      "2    1  6947          3  13220              2            11242         23144\n",
      "3    6  7818          2  18245              3            14338         25104\n",
      "4    9  5395          3  12724              1            16545         24369\n",
      "epoch 1\n",
      "Batch 0\n",
      "   idx    np  np choice     py  random.choice  np in transform  py in random\n",
      "0    7  7305          2  16760              2            18297         21952\n",
      "1    3  2456          1  13857              3            11260         23585\n",
      "2    0  1290          3  16626              2            18813         23703\n",
      "3    1  2393          3  13680              2            19263         21098\n",
      "4    6  3263          2  14895              3            14784         27122\n",
      "Batch 1\n",
      "   idx    np  np choice     py  random.choice  np in transform  py in random\n",
      "0    2  5038          1  13324              3            13683         21027\n",
      "1    5  1750          3  17676              2            19278         22629\n",
      "2    4  9568          2  13871              2            17305         22902\n",
      "3    8  1204          1  19592              3            10368         24869\n",
      "4    9  1344          1  12258              1            14343         26606\n"
     ]
    }
   ],
   "source": [
    "correct_show(4)"
   ]
  }
 ],
 "metadata": {
  "kernelspec": {
   "display_name": "Python 3",
   "language": "python",
   "name": "python3"
  },
  "language_info": {
   "codemirror_mode": {
    "name": "ipython",
    "version": 3
   },
   "file_extension": ".py",
   "mimetype": "text/x-python",
   "name": "python",
   "nbconvert_exporter": "python",
   "pygments_lexer": "ipython3",
   "version": "3.6.5"
  }
 },
 "nbformat": 4,
 "nbformat_minor": 4
}
