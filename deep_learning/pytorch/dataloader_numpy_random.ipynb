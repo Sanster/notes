{
 "cells": [
  {
   "cell_type": "markdown",
   "metadata": {},
   "source": [
    "测试 https://github.com/pytorch/pytorch/issues/5059 中提到的 numpy 在多 num_workers 下的表现"
   ]
  },
  {
   "cell_type": "code",
   "execution_count": 31,
   "metadata": {},
   "outputs": [],
   "source": [
    "import numpy as np\n",
    "import pandas as pd\n",
    "import random\n",
    "from torch.utils.data import DataLoader\n",
    "import torch\n",
    "\n",
    "\n",
    "class Transform(object):\n",
    "    def __init__(self):\n",
    "        pass\n",
    "\n",
    "    def __call__(self, item = None):\n",
    "        return [np.random.randint(10000, 20000), random.randint(20000,30000)]\n",
    "\n",
    "class RandomDataset(object):\n",
    "\n",
    "    def __init__(self):\n",
    "        self.data = list(range(0, 10))\n",
    "        pass\n",
    "\n",
    "    def __getitem__(self, ind):\n",
    "        item = [ind, np.random.randint(1, 10000), np.random.choice([1, 2, 3]), random.randint(10000, 20000), random.choice([1,2,3])]\n",
    "        tsfm =Transform()(item)\n",
    "        return np.array(item + tsfm)\n",
    "    \n",
    "    def __len__(self):\n",
    "        return 10\n",
    "\n",
    "\n",
    "def show(num_workers):\n",
    "    print(f\"num_workers: {num_workers}\")\n",
    "    ds = RandomDataset()\n",
    "    torch.manual_seed(2)\n",
    "    ds = DataLoader(ds, 5, shuffle=True, num_workers=num_workers)\n",
    "    for epoch in range(2):\n",
    "        print(\"epoch {}\".format(epoch))\n",
    "        \n",
    "        for i, batch in enumerate(ds):\n",
    "            print(f'Batch {i}')\n",
    "            df = pd.DataFrame(batch.data.numpy(), columns=['idx', 'np', 'np choice', 'py', 'random.choice','np in transform', 'py in random'])\n",
    "            print(df)"
   ]
  },
  {
   "cell_type": "code",
   "execution_count": 18,
   "metadata": {},
   "outputs": [
    {
     "name": "stdout",
     "output_type": "stream",
     "text": [
      "num_workers: 1\n",
      "epoch 0\n",
      "Batch 0\n",
      "   idx    np  np choice     py  random.choice  np in transform  py in random\n",
      "0    1  1997          3  11266              2            18214         21671\n",
      "1    0   245          1  11599              2            17290         22097\n",
      "2    8  7721          1  17929              3            10315         24997\n",
      "3    3  8776          2  15311              1            18892         22562\n",
      "4    4  1533          3  11679              1            12073         21155\n",
      "Batch 1\n",
      "   idx    np  np choice     py  random.choice  np in transform  py in random\n",
      "0    5  7432          1  12898              1            18095         29931\n",
      "1    6  8259          1  11257              2            13308         26077\n",
      "2    7  5583          1  11812              3            14231         21360\n",
      "3    2  4178          3  16004              2            15067         26752\n",
      "4    9  7532          2  13354              3            19838         26194\n",
      "epoch 1\n",
      "Batch 0\n",
      "   idx    np  np choice     py  random.choice  np in transform  py in random\n",
      "0    5  1997          3  14850              1            18214         23843\n",
      "1    4   245          1  19213              2            17290         29237\n",
      "2    9  7721          1  12702              1            10315         25987\n",
      "3    6  8776          2  14172              1            18892         29803\n",
      "4    2  1533          3  15499              1            12073         26668\n",
      "Batch 1\n",
      "   idx    np  np choice     py  random.choice  np in transform  py in random\n",
      "0    3  7432          1  17739              3            18095         23544\n",
      "1    0  8259          1  17726              3            13308         28719\n",
      "2    8  5583          1  13287              2            14231         26953\n",
      "3    7  4178          3  15921              2            15067         28590\n",
      "4    1  7532          2  12939              3            19838         25735\n"
     ]
    }
   ],
   "source": [
    "show(num_workers=1)"
   ]
  },
  {
   "cell_type": "code",
   "execution_count": 17,
   "metadata": {},
   "outputs": [
    {
     "name": "stdout",
     "output_type": "stream",
     "text": [
      "num_workers: 2\n",
      "epoch 0\n",
      "Batch 0\n",
      "   idx    np  np choice     py  random.choice  np in transform  py in random\n",
      "0    1  1997          3  11266              2            18214         21671\n",
      "1    0   245          1  11599              2            17290         22097\n",
      "2    8  7721          1  17929              3            10315         24997\n",
      "3    3  8776          2  15311              1            18892         22562\n",
      "4    4  1533          3  11679              1            12073         21155\n",
      "Batch 1\n",
      "   idx    np  np choice     py  random.choice  np in transform  py in random\n",
      "0    5  1997          3  12182              1            18214         24722\n",
      "1    6   245          1  19078              3            17290         29963\n",
      "2    7  7721          1  19968              1            10315         20393\n",
      "3    2  8776          2  12542              2            18892         29081\n",
      "4    9  1533          3  16491              3            12073         20872\n",
      "epoch 1\n",
      "Batch 0\n",
      "   idx    np  np choice     py  random.choice  np in transform  py in random\n",
      "0    5  1997          3  14850              1            18214         23843\n",
      "1    4   245          1  19213              2            17290         29237\n",
      "2    9  7721          1  12702              1            10315         25987\n",
      "3    6  8776          2  14172              1            18892         29803\n",
      "4    2  1533          3  15499              1            12073         26668\n",
      "Batch 1\n",
      "   idx    np  np choice     py  random.choice  np in transform  py in random\n",
      "0    3  1997          3  12793              1            18214         25039\n",
      "1    0   245          1  11698              3            17290         27617\n",
      "2    8  7721          1  14939              3            10315         27855\n",
      "3    7  8776          2  15784              2            18892         20520\n",
      "4    1  1533          3  18748              3            12073         23870\n"
     ]
    }
   ],
   "source": [
    "show(num_workers=2)"
   ]
  },
  {
   "cell_type": "markdown",
   "metadata": {},
   "source": [
    "- 当 num_workers == 1 时，一个 epoch 中，不同 batch 出来的随机数是不一样的，但是每一个 epoch 出来的随机数是一样的\n",
    "- 当 num_workers >1 时，每一个 epoch 中的每一个 batch 出来的随机数都是一样的"
   ]
  },
  {
   "cell_type": "code",
   "execution_count": 32,
   "metadata": {},
   "outputs": [],
   "source": [
    "def worker_init_fn(worker_id):                                                          \n",
    "    np.random.seed(np.random.get_state()[1][0] + worker_id)\n",
    "    \n",
    "def correct_show(num_workers):\n",
    "    print(f\"num_workers: {num_workers}\")\n",
    "    ds = RandomDataset()\n",
    "    torch.manual_seed(2)\n",
    "    ds = DataLoader(ds, 5, shuffle=True, num_workers=num_workers, worker_init_fn=worker_init_fn, pin_memory=True)\n",
    "    for epoch in range(2):\n",
    "        print(\"epoch {}\".format(epoch))\n",
    "        np.random.seed()\n",
    "        for i, batch in enumerate(ds):\n",
    "            print(f'Batch {i}')\n",
    "            df = pd.DataFrame(batch.data.numpy(), columns=['idx', 'np', 'np choice', 'py', 'random.choice','np in transform', 'py in random'])\n",
    "            print(df)"
   ]
  },
  {
   "cell_type": "code",
   "execution_count": 42,
   "metadata": {},
   "outputs": [
    {
     "name": "stdout",
     "output_type": "stream",
     "text": [
      "num_workers: 1\n",
      "epoch 0\n",
      "Batch 0\n",
      "   idx    np  np choice     py  random.choice  np in transform  py in random\n",
      "0    1  3646          1  11266              2            11342         21671\n",
      "1    0  6080          1  11599              2            15887         22097\n",
      "2    8  5933          3  17929              3            11302         24997\n",
      "3    3  5299          1  15311              1            13479         22562\n",
      "4    4  9998          3  11679              1            11202         21155\n",
      "Batch 1\n",
      "   idx    np  np choice     py  random.choice  np in transform  py in random\n",
      "0    5   710          2  12898              1            10128         29931\n",
      "1    6  6762          2  11257              2            11496         26077\n",
      "2    7  6215          3  11812              3            19242         21360\n",
      "3    2  4534          2  16004              2            14940         26752\n",
      "4    9  5746          1  13354              3            14040         26194\n",
      "epoch 1\n",
      "Batch 0\n",
      "   idx    np  np choice     py  random.choice  np in transform  py in random\n",
      "0    5   581          2  14850              1            17485         23843\n",
      "1    4   554          2  19213              2            12799         29237\n",
      "2    9  8042          2  12702              1            15420         25987\n",
      "3    6  2385          2  14172              1            17067         29803\n",
      "4    2  5495          2  15499              1            14459         26668\n",
      "Batch 1\n",
      "   idx    np  np choice     py  random.choice  np in transform  py in random\n",
      "0    3  5751          1  17739              3            19581         23544\n",
      "1    0  2078          1  17726              3            14148         28719\n",
      "2    8  6534          3  13287              2            18663         26953\n",
      "3    7  3346          1  15921              2            18847         28590\n",
      "4    1  2754          2  12939              3            13356         25735\n"
     ]
    }
   ],
   "source": [
    "correct_show(1)"
   ]
  },
  {
   "cell_type": "code",
   "execution_count": 60,
   "metadata": {},
   "outputs": [
    {
     "name": "stdout",
     "output_type": "stream",
     "text": [
      "num_workers: 4\n",
      "epoch 0\n",
      "Batch 0\n",
      "   idx    np  np choice     py  random.choice  np in transform  py in random\n",
      "0    5  9385          3  12768              2            16205         29849\n",
      "1    7  6114          2  15404              3            18732         21038\n",
      "2    0  9287          2  13753              2            19262         24205\n",
      "3    8  2603          1  15010              2            12931         25615\n",
      "4    4  4883          2  12705              3            14169         28304\n",
      "Batch 1\n",
      "   idx    np  np choice     py  random.choice  np in transform  py in random\n",
      "0    2  3639          3  15206              2            17072         22890\n",
      "1    3   265          3  17331              1            17994         24616\n",
      "2    1  6947          3  13220              2            11242         23144\n",
      "3    6  7818          2  18245              3            14338         25104\n",
      "4    9  5395          3  12724              1            16545         24369\n",
      "epoch 1\n",
      "Batch 0\n",
      "   idx    np  np choice     py  random.choice  np in transform  py in random\n",
      "0    7  7305          2  16760              2            18297         21952\n",
      "1    3  2456          1  13857              3            11260         23585\n",
      "2    0  1290          3  16626              2            18813         23703\n",
      "3    1  2393          3  13680              2            19263         21098\n",
      "4    6  3263          2  14895              3            14784         27122\n",
      "Batch 1\n",
      "   idx    np  np choice     py  random.choice  np in transform  py in random\n",
      "0    2  5038          1  13324              3            13683         21027\n",
      "1    5  1750          3  17676              2            19278         22629\n",
      "2    4  9568          2  13871              2            17305         22902\n",
      "3    8  1204          1  19592              3            10368         24869\n",
      "4    9  1344          1  12258              1            14343         26606\n"
     ]
    }
   ],
   "source": [
    "correct_show(4)"
   ]
  }
 ],
 "metadata": {
  "kernelspec": {
   "display_name": "Python 3",
   "language": "python",
   "name": "python3"
  },
  "language_info": {
   "codemirror_mode": {
    "name": "ipython",
    "version": 3
   },
   "file_extension": ".py",
   "mimetype": "text/x-python",
   "name": "python",
   "nbconvert_exporter": "python",
   "pygments_lexer": "ipython3",
   "version": "3.6.5"
  }
 },
 "nbformat": 4,
 "nbformat_minor": 4
}
