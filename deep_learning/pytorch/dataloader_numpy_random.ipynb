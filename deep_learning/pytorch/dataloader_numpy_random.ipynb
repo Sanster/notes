{
 "cells": [
  {
   "cell_type": "markdown",
   "metadata": {},
   "source": [
    "测试 https://github.com/pytorch/pytorch/issues/5059 中提到的 numpy 在多 num_workers 下的表现"
   ]
  },
  {
   "cell_type": "code",
   "execution_count": 53,
   "metadata": {},
   "outputs": [],
   "source": [
    "import numpy as np\n",
    "import pandas as pd\n",
    "import random\n",
    "from torch.utils.data import DataLoader\n",
    "\n",
    "class Transform(object):\n",
    "    def __init__(self):\n",
    "        pass\n",
    "\n",
    "    def __call__(self, item = None):\n",
    "        return [np.random.randint(10000, 20000), random.randint(20000,30000)]\n",
    "\n",
    "class RandomDataset(object):\n",
    "\n",
    "    def __init__(self):\n",
    "        pass\n",
    "\n",
    "    def __getitem__(self, ind):\n",
    "        item = [ind, np.random.randint(1, 10000), np.random.choice([1, 2, 3]), random.randint(10000, 20000), random.choice([1,2,3])]\n",
    "        tsfm =Transform()(item)\n",
    "        return np.array(item + tsfm)\n",
    "    def __len__(self):\n",
    "        return 10\n",
    "\n",
    "\n",
    "def show(num_workers):\n",
    "    print(f\"num_workers: {num_workers}\")\n",
    "    ds = RandomDataset()\n",
    "    ds = DataLoader(ds, 5, shuffle=True, num_workers=num_workers)\n",
    "    for epoch in range(2):\n",
    "        print(\"epoch {}\".format(epoch))\n",
    "        for i, batch in enumerate(ds):\n",
    "            print(f'Batch {i}')\n",
    "            df = pd.DataFrame(batch.data.numpy(), columns=['idx', 'np', 'np choice', 'py', 'random.choice','np in transform', 'py in random'])\n",
    "            print(df)"
   ]
  },
  {
   "cell_type": "code",
   "execution_count": 54,
   "metadata": {},
   "outputs": [
    {
     "name": "stdout",
     "output_type": "stream",
     "text": [
      "num_workers: 1\n",
      "epoch 0\n",
      "Batch 0\n",
      "   idx    np  np choice     py  random.choice  np in transform  py in random\n",
      "0    7  9175          1  16283              2            13638         26768\n",
      "1    2  2651          3  10798              2            15572         28957\n",
      "2    6  9679          3  13213              2            18532         29854\n",
      "3    3  9015          1  19733              3            13714         24339\n",
      "4    8  2908          1  11373              3            11637         26764\n",
      "Batch 1\n",
      "   idx    np  np choice     py  random.choice  np in transform  py in random\n",
      "0    0  5858          3  13115              1            15378         24542\n",
      "1    1  1075          2  19764              2            16264         26791\n",
      "2    9  1992          1  14330              3            18887         22242\n",
      "3    5  8411          2  11212              1            15608         24245\n",
      "4    4  7574          2  10514              3            10982         21878\n",
      "epoch 1\n",
      "Batch 0\n",
      "   idx    np  np choice     py  random.choice  np in transform  py in random\n",
      "0    6  9175          1  12372              1            13638         25775\n",
      "1    8  2651          3  18014              1            15572         26570\n",
      "2    9  9679          3  16597              3            18532         25078\n",
      "3    4  9015          1  12544              2            13714         23993\n",
      "4    1  2908          1  18146              1            11637         21188\n",
      "Batch 1\n",
      "   idx    np  np choice     py  random.choice  np in transform  py in random\n",
      "0    2  5858          3  13466              2            15378         20146\n",
      "1    5  1075          2  15623              3            16264         25113\n",
      "2    0  1992          1  19796              3            18887         26658\n",
      "3    7  8411          2  17381              3            15608         26805\n",
      "4    3  7574          2  12069              2            10982         24350\n"
     ]
    }
   ],
   "source": [
    "show(num_workers=1)"
   ]
  },
  {
   "cell_type": "code",
   "execution_count": 55,
   "metadata": {},
   "outputs": [
    {
     "name": "stdout",
     "output_type": "stream",
     "text": [
      "num_workers: 2\n",
      "epoch 0\n",
      "Batch 0\n",
      "   idx    np  np choice     py  random.choice  np in transform  py in random\n",
      "0    2  9175          1  18896              3            13638         25388\n",
      "1    8  2651          3  16625              3            15572         29109\n",
      "2    0  9679          3  14599              3            18532         25992\n",
      "3    5  9015          1  14301              1            13714         21669\n",
      "4    3  2908          1  17056              2            11637         26344\n",
      "Batch 1\n",
      "   idx    np  np choice     py  random.choice  np in transform  py in random\n",
      "0    6  9175          1  18179              2            13638         25369\n",
      "1    9  2651          3  17896              2            15572         22372\n",
      "2    7  9679          3  16729              2            18532         25718\n",
      "3    1  9015          1  17658              2            13714         27335\n",
      "4    4  2908          1  17633              2            11637         27306\n",
      "epoch 1\n",
      "Batch 0\n",
      "   idx    np  np choice     py  random.choice  np in transform  py in random\n",
      "0    6  9175          1  19212              3            13638         28902\n",
      "1    7  2651          3  16146              2            15572         26034\n",
      "2    9  9679          3  11530              2            18532         26905\n",
      "3    2  9015          1  14044              1            13714         26043\n",
      "4    8  2908          1  13995              3            11637         22851\n",
      "Batch 1\n",
      "   idx    np  np choice     py  random.choice  np in transform  py in random\n",
      "0    5  9175          1  12033              2            13638         26715\n",
      "1    1  2651          3  14223              3            15572         22176\n",
      "2    4  9679          3  10708              3            18532         24357\n",
      "3    0  9015          1  15075              2            13714         21757\n",
      "4    3  2908          1  13243              1            11637         28784\n"
     ]
    }
   ],
   "source": [
    "show(num_workers=2)"
   ]
  },
  {
   "cell_type": "markdown",
   "metadata": {},
   "source": [
    "- 当 num_workers == 1 时，一个 epoch 中，不同 batch 出来的随机数是不一样的，但是每一个 epoch 出来的随机数是一样的\n",
    "- 当 num_workers >1 时，每一个 epoch 中的每一个 batch 出来的随机数都是一样的"
   ]
  },
  {
   "cell_type": "code",
   "execution_count": 62,
   "metadata": {},
   "outputs": [],
   "source": [
    "def worker_init_fn(worker_id):                                                          \n",
    "    np.random.seed(np.random.get_state()[1][0] + worker_id)\n",
    "\n",
    "def correct_show(num_workers):\n",
    "    print(f\"num_workers: {num_workers}\")\n",
    "    ds = RandomDataset()\n",
    "    ds = DataLoader(ds, 5, shuffle=False, num_workers=num_workers, worker_init_fn=worker_init_fn)\n",
    "\n",
    "    for epoch in range(2):\n",
    "        print(\"epoch {}\".format(epoch))\n",
    "        np.random.seed()\n",
    "        for i, batch in enumerate(ds):\n",
    "            print(f'Batch {i}')\n",
    "            df = pd.DataFrame(batch.data.numpy(), columns=['idx', 'np', 'np choice', 'py', 'random.choice','np in transform', 'py in random'])\n",
    "            print(df)"
   ]
  },
  {
   "cell_type": "code",
   "execution_count": 60,
   "metadata": {},
   "outputs": [
    {
     "name": "stdout",
     "output_type": "stream",
     "text": [
      "num_workers: 1\n",
      "epoch 0\n",
      "Batch 0\n",
      "   idx    np  np choice     py  random.choice  np in transform  py in random\n",
      "0    0  1235          2  14038              3            12585         26387\n",
      "1    1  9441          3  18036              1            12344         29636\n",
      "2    2  5774          2  10963              3            11575         23882\n",
      "3    3    69          1  17130              1            12692         24516\n",
      "4    4  2966          3  12893              1            15722         23180\n",
      "Batch 1\n",
      "   idx    np  np choice     py  random.choice  np in transform  py in random\n",
      "0    5  5015          1  19762              2            14940         24579\n",
      "1    6  7538          1  17960              2            12027         26896\n",
      "2    7  7012          2  18341              2            17019         21691\n",
      "3    8  5564          2  14875              1            14288         29571\n",
      "4    9  5259          2  12681              3            12178         27491\n",
      "epoch 1\n",
      "Batch 0\n",
      "   idx    np  np choice     py  random.choice  np in transform  py in random\n",
      "0    0  1235          2  16896              3            12585         24726\n",
      "1    1  9441          3  16022              3            12344         29219\n",
      "2    2  5774          2  13597              2            11575         21979\n",
      "3    3    69          1  17332              2            12692         27068\n",
      "4    4  2966          3  17897              2            15722         28608\n",
      "Batch 1\n",
      "   idx    np  np choice     py  random.choice  np in transform  py in random\n",
      "0    5  5015          1  19319              2            14940         27203\n",
      "1    6  7538          1  10490              1            12027         21661\n",
      "2    7  7012          2  15778              3            17019         24440\n",
      "3    8  5564          2  11180              2            14288         20820\n",
      "4    9  5259          2  17934              2            12178         22514\n"
     ]
    }
   ],
   "source": [
    "correct_show(1)"
   ]
  },
  {
   "cell_type": "code",
   "execution_count": 63,
   "metadata": {},
   "outputs": [
    {
     "name": "stdout",
     "output_type": "stream",
     "text": [
      "num_workers: 4\n",
      "epoch 0\n",
      "Batch 0\n",
      "   idx    np  np choice     py  random.choice  np in transform  py in random\n",
      "0    0   671          1  18971              2            16543         27174\n",
      "1    1  9181          3  16275              3            16969         24915\n",
      "2    2  3242          3  17358              3            17795         20894\n",
      "3    3  5899          3  10655              1            19936         23698\n",
      "4    4  2391          2  12706              3            14225         24237\n",
      "Batch 1\n",
      "   idx    np  np choice     py  random.choice  np in transform  py in random\n",
      "0    5  4294          2  15085              1            14995         22693\n",
      "1    6  5885          2  19017              1            15147         29581\n",
      "2    7  9285          2  17500              2            14946         21699\n",
      "3    8  9263          3  11823              1            14660         27230\n",
      "4    9   783          1  13118              1            14107         20160\n",
      "epoch 1\n",
      "Batch 0\n",
      "   idx    np  np choice     py  random.choice  np in transform  py in random\n",
      "0    0  2280          1  15423              3            16357         21624\n",
      "1    1  2164          2  10851              1            17044         25373\n",
      "2    2  4726          3  12351              1            15490         29015\n",
      "3    3  4794          3  10904              3            17891         23411\n",
      "4    4  5903          1  15813              3            13139         24784\n",
      "Batch 1\n",
      "   idx    np  np choice     py  random.choice  np in transform  py in random\n",
      "0    5  8373          1  13571              3            10779         28704\n",
      "1    6  9433          3  15020              2            16394         23863\n",
      "2    7  9151          3  12616              3            12019         23582\n",
      "3    8  1346          1  11808              2            14522         20426\n",
      "4    9  5523          1  16618              1            18383         24248\n"
     ]
    }
   ],
   "source": [
    "correct_show(4)"
   ]
  }
 ],
 "metadata": {
  "kernelspec": {
   "display_name": "Python 3",
   "language": "python",
   "name": "python3"
  },
  "language_info": {
   "codemirror_mode": {
    "name": "ipython",
    "version": 3
   },
   "file_extension": ".py",
   "mimetype": "text/x-python",
   "name": "python",
   "nbconvert_exporter": "python",
   "pygments_lexer": "ipython3",
   "version": "3.6.5"
  }
 },
 "nbformat": 4,
 "nbformat_minor": 4
}
