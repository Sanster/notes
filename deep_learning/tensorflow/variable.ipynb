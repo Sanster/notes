{
 "cells": [
  {
   "cell_type": "markdown",
   "metadata": {},
   "source": [
    "**Tensorflow api：r1.4v**\n",
    "\n",
    "两种创建变量的方式：\n",
    "- tf.Variable()：永远是创建一个新的变量，如果和已经存在的变量重名，tensorflow 会自动加上后缀\n",
    "- tf.get_variable()：如果 `tf.variable_scope` 设置了 `reuse=tf.AUTO_REUSE`，可以获得一个之前已经创建的变量\n",
    "\n",
    "两种 scope：\n",
    "- tf.name_scope：对 tf.get_variable() 不起作用，不会给他加上前缀\n",
    "- tf.variable_scope：可以 `reuse=tf.AUTO_REUSE`"
   ]
  },
  {
   "cell_type": "code",
   "execution_count": 1,
   "metadata": {},
   "outputs": [
    {
     "name": "stderr",
     "output_type": "stream",
     "text": [
      "/usr/local/lib/python3.5/dist-packages/h5py/__init__.py:36: FutureWarning: Conversion of the second argument of issubdtype from `float` to `np.floating` is deprecated. In future, it will be treated as `np.float64 == np.dtype(float).type`.\n",
      "  from ._conv import register_converters as _register_converters\n"
     ]
    },
    {
     "name": "stdout",
     "output_type": "stream",
     "text": [
      "var1:0\n",
      "name_scope/var2:0\n",
      "name_scope/var2_1:0\n",
      "name_scope/var2_2:0\n",
      "variable_scope/var3:0\n",
      "variable_scope/var3:0\n",
      "variable_scope/var4:0\n",
      "variable_scope/var4_1:0\n"
     ]
    }
   ],
   "source": [
    "import tensorflow as tf\n",
    "\n",
    "with tf.name_scope(\"name_scope\"):\n",
    "    initializer = tf.constant_initializer(value=1)\n",
    "    var1 = tf.get_variable(name='var1', shape=[1], dtype=tf.float32, initializer=initializer)\n",
    "    var2 = tf.Variable(name='var2', initial_value=[2], dtype=tf.float32)\n",
    "    var21 = tf.Variable(name='var2', initial_value=[2.1], dtype=tf.float32)\n",
    "    var22 = tf.Variable(name='var2', initial_value=[2.2], dtype=tf.float32)\n",
    "\n",
    "with tf.Session() as sess:\n",
    "    sess.run(tf.global_variables_initializer())\n",
    "    print(var1.name)  # var1:0 get_variable() 不受 name_scope 影响\n",
    "    print(var2.name)  # a_name_scope/var2:0\n",
    "    print(var21.name)  # a_name_scope/var2_1:0\n",
    "    print(var22.name)  # a_name_scope/var2_2:0  tf.Variable 无法获得已经定义的变量，tf 会自动加上后缀\n",
    "    sess.close()\n",
    "\n",
    "with tf.variable_scope(\"variable_scope\", reuse=tf.AUTO_REUSE) as scope:\n",
    "    initializer = tf.constant_initializer(value=3)\n",
    "    var3 = tf.get_variable(name='var3', shape=[1], dtype=tf.float32, initializer=initializer)\n",
    "    var3_reuse = tf.get_variable(name='var3')\n",
    "    var4 = tf.Variable(name='var4', initial_value=[4], dtype=tf.float32)\n",
    "    var4_reuse = tf.Variable(name='var4', initial_value=[4], dtype=tf.float32)\n",
    "\n",
    "with tf.Session() as sess:\n",
    "    sess.run(tf.global_variables_initializer())\n",
    "    print(var3.name)  # a_variable_scope/var3:0\n",
    "    print(var3_reuse.name)  # a_variable_scope/var3:0\n",
    "    # Variable() 无法 reuse 变量，依然会创建新的变量\n",
    "    print(var4.name)  # a_variable_scope/var4:0\n",
    "    print(var4_reuse.name)  # a_variable_scope/var4_1:0\n",
    "    sess.close()   "
   ]
  },
  {
   "cell_type": "code",
   "execution_count": null,
   "metadata": {},
   "outputs": [],
   "source": []
  }
 ],
 "metadata": {
  "kernelspec": {
   "display_name": "Python 3",
   "language": "python",
   "name": "python3"
  },
  "language_info": {
   "codemirror_mode": {
    "name": "ipython",
    "version": 3
   },
   "file_extension": ".py",
   "mimetype": "text/x-python",
   "name": "python",
   "nbconvert_exporter": "python",
   "pygments_lexer": "ipython3",
   "version": "3.5.2"
  }
 },
 "nbformat": 4,
 "nbformat_minor": 2
}
