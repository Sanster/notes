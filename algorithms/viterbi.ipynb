{
 "cells": [
  {
   "cell_type": "markdown",
   "metadata": {},
   "source": [
    "参考：\n",
    "- https://en.wikipedia.org/wiki/Viterbi_algorithm\n",
    "- https://www.zhihu.com/question/20136144\n",
    "\n",
    "```\n",
    "\"Viterbi path\" and \"Viterbi algorithm\" have become standard terms for the \n",
    "application of dynamic programming algorithms to maximization problems involving \n",
    "probabilities.\n",
    "```"
   ]
  },
  {
   "cell_type": "code",
   "execution_count": 27,
   "metadata": {},
   "outputs": [
    {
     "name": "stdout",
     "output_type": "stream",
     "text": [
      "           0            1            2\n",
      "Healthy: 0.30000 0.08400 0.00588\n",
      "Fever: 0.04000 0.02700 0.01512\n",
      "last step max prob: ('Fever', {'prob': 0.01512, 'prev': 'Healthy'})\n",
      "The steps of states are: ['Healthy', 'Healthy', 'Fever'] with highest probability: 0.01512\n"
     ]
    }
   ],
   "source": [
    "\"\"\"\n",
    "医生通过观察病人的状态来判断病人的健康状况，输入是病人每一天的状态（正常、冷、眩晕），输出是每一天的身体状态标签（健康 or 发烧）\n",
    "\"\"\"\n",
    "\n",
    "# 病人的隐藏状态\n",
    "states = ('Healthy', 'Fever')\n",
    "\n",
    "# 病人起始的隐藏状态\n",
    "start_p = {'Healthy': 0.6, 'Fever': 0.4}\n",
    "\n",
    "# 病人隐藏状态的转移概率，例如昨天是 Healthy，今天也是 Healthy 的概率为 0.7\n",
    "trans_p = {\n",
    "   'Healthy' : {'Healthy': 0.7, 'Fever': 0.3},\n",
    "   'Fever' : {'Healthy': 0.4, 'Fever': 0.6}\n",
    "}\n",
    "\n",
    "# 如果病人处于某个隐藏状态，表现出各种显示状态的概率\n",
    "emit_p = {\n",
    "   'Healthy' : {'normal': 0.5, 'cold': 0.4, 'dizzy': 0.1},\n",
    "   'Fever' : {'normal': 0.1, 'cold': 0.3, 'dizzy': 0.6}\n",
    "}\n",
    "\n",
    "# 医生观察到的病人每天的状态\n",
    "obs = ('normal', 'cold', 'dizzy')\n",
    "\n",
    "def viterbi(obs, states, start_p, trans_p, emit_p):\n",
    "    V = [{}]\n",
    "    \n",
    "    # 计算病人的初始隐藏状态\n",
    "    for st in states:\n",
    "        V[0][st] = {\n",
    "            \"prob\": start_p[st] * emit_p[st][obs[0]], \n",
    "            \"prev\": None\n",
    "        }\n",
    "    \n",
    "    for t in range(1, len(obs)):\n",
    "        V.append({})\n",
    "        \n",
    "        # 这里两层 for 循环的目的是为了根据上一步所有隐藏状态的概率计算出转移到当前步隐藏状态的所有概率\n",
    "        # 第一层迭代是迭代当前状态\n",
    "        for st in states:\n",
    "            # 第二层迭代是迭代前一步的所有隐藏状态\n",
    "            # 初始化前一步的隐藏状态，设为所有状态当中的第一个状态\n",
    "            max_tr_prob = V[t-1][states[0]][\"prob\"] * trans_p[states[0]][st]\n",
    "            prev_st_selected = states[0]  #\n",
    "            \n",
    "            # 前一步的隐藏状态，遍历剩下的状态\n",
    "            for prev_st in states[1:]:\n",
    "                tr_prob = V[t-1][prev_st][\"prob\"] * trans_p[prev_st][st]\n",
    "                if tr_prob > max_tr_prob:\n",
    "                    max_tr_prob = tr_prob\n",
    "                    prev_st_selected = prev_st\n",
    "        \n",
    "            max_prob = max_tr_prob * emit_p[st][obs[t]]\n",
    "            V[t][st] = {\"prob\": max_prob, \"prev\": prev_st_selected}\n",
    "            \n",
    "    for line in dptable(V):\n",
    "        print(line)\n",
    "    \n",
    "    # 获得最后一步概率最高的状态\n",
    "    max_prob = max(V[-1].items(), key=lambda x: x[1][\"prob\"])\n",
    "    print('last step max prob:', max_prob)\n",
    "    previous = max_prob[1]['prev']\n",
    "    \n",
    "    opt = [max_prob[0]]\n",
    "    for t in range(len(V)-2, -1, -1):\n",
    "        opt.insert(0, V[t + 1][previous][\"prev\"])\n",
    "        previous = V[t + 1][previous][\"prev\"]\n",
    "    \n",
    "    print(f\"The steps of states are: {opt} with highest probability: {max_prob[1]['prob']}\")\n",
    "        \n",
    "            \n",
    "def dptable(V):\n",
    "    # Print a table of steps from dictionary\n",
    "    yield \" \".join((\"%12d\" % i) for i in range(len(V)))\n",
    "    for state in V[0]:\n",
    "        yield \"%.7s: \" % state + \" \".join(\"%.7s\" % (\"%f\" % v[state][\"prob\"]) for v in V)\n",
    "\n",
    "viterbi(obs, states, start_p, trans_p, emit_p)"
   ]
  }
 ],
 "metadata": {
  "kernelspec": {
   "display_name": "Python 3",
   "language": "python",
   "name": "python3"
  },
  "language_info": {
   "codemirror_mode": {
    "name": "ipython",
    "version": 3
   },
   "file_extension": ".py",
   "mimetype": "text/x-python",
   "name": "python",
   "nbconvert_exporter": "python",
   "pygments_lexer": "ipython3",
   "version": "3.6.5"
  }
 },
 "nbformat": 4,
 "nbformat_minor": 2
}
