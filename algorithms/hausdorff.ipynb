{
 "cells": [
  {
   "cell_type": "code",
   "execution_count": 24,
   "metadata": {},
   "outputs": [
    {
     "name": "stdout",
     "output_type": "stream",
     "text": [
      "0.1888291719951667\n",
      "1.957376047008438\n"
     ]
    }
   ],
   "source": [
    "import ahocorasick\n",
    "import timeit\n",
    "import re\n",
    "\n",
    "key_words = 'he her hers she lll heee asdhfasld jasldkfjl asjdfj1 hhh alskdfj 1l23kj'.split()\n",
    "A = ahocorasick.Automaton()\n",
    "for idx, key in enumerate(key_words):\n",
    "    A.add_word(key, (idx, key))\n",
    "A.make_automaton()\n",
    "\n",
    "haystack = 'heherhersshealskdfj2m4niudaoihvmnaslkdhehehehehahekjhahehe'\n",
    "\n",
    "def ac():\n",
    "    res = list(A.iter(haystack))\n",
    "#     print('ac', len(res))\n",
    "    \n",
    "def ori():\n",
    "    count = 0\n",
    "    for it in key_words:\n",
    "        count += len(list(re.finditer(it, haystack)))\n",
    "#     print('ori', count)\n",
    "\n",
    "print(timeit.Timer(lambda: ac()).timeit(100000))\n",
    "print(timeit.Timer(lambda: ori()).timeit(100000))"
   ]
  }
 ],
 "metadata": {
  "kernelspec": {
   "display_name": "Python 3",
   "language": "python",
   "name": "python3"
  },
  "language_info": {
   "codemirror_mode": {
    "name": "ipython",
    "version": 3
   },
   "file_extension": ".py",
   "mimetype": "text/x-python",
   "name": "python",
   "nbconvert_exporter": "python",
   "pygments_lexer": "ipython3",
   "version": "3.6.5"
  }
 },
 "nbformat": 4,
 "nbformat_minor": 2
}
