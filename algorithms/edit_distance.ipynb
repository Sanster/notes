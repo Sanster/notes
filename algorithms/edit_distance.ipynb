{
 "cells": [
  {
   "cell_type": "code",
   "execution_count": 7,
   "metadata": {},
   "outputs": [
    {
     "name": "stdout",
     "output_type": "stream",
     "text": [
      "1.1841719150543213\n"
     ]
    }
   ],
   "source": [
    "\"\"\"\n",
    "http://www.dreamxu.com/books/dsa/dp/edit-distance.html\n",
    "https://en.wikipedia.org/wiki/Levenshtein_distance\n",
    "https://www.quora.com/How-do-I-figure-out-how-to-iterate-over-the-parameters-and-write-bottom-up-solutions-to-dynamic-programming-related-problems/answer/Michal-Danil%C3%A1k?srid=3OBi&share=1\n",
    "\n",
    "编辑距离(Levenshtein distance 莱文斯坦距离)\n",
    "给定 2 个字符串 a, b. 编辑距离是将 a 转换为 b 的最少操作次数，操作只允许如下 3 种：\n",
    "\n",
    "1. 插入一个字符，例如：fj -> fxj\n",
    "2. 删除一个字符，例如：fxj -> fj\n",
    "3. 替换一个字符，例如：jxj -> fyj\n",
    "\"\"\"\n",
    "\n",
    "def levenshtein_distance_recursice(str_a, str_b):\n",
    "    cost = 0\n",
    "    len_a = len(str_a)\n",
    "    len_b = len(str_b)\n",
    "    \n",
    "    # 有某一个字符串为空\n",
    "    if len_a == 0:\n",
    "        return len_b\n",
    "    if len_b == 0:\n",
    "        return len_a\n",
    "    \n",
    "    # 最后一个字母是否相同\n",
    "    if str_a[-1] == str_b[-1]:\n",
    "        cost = 0\n",
    "    else:\n",
    "        cost = 1\n",
    "    \n",
    "    return min(levenshtein_distance_recursice(str_a[0:-1], str_b) + 1,\n",
    "              levenshtein_distance_recursice(str_a, str_b[0:-1]) + 1,\n",
    "              levenshtein_distance_recursice(str_a[0:-1], str_b[0:-1]) + cost)\n",
    "\n",
    "import time\n",
    "start = time.time()\n",
    "levenshtein_distance_recursice('abc'*3, 'bcd'*3)\n",
    "print(time.time() - start)"
   ]
  },
  {
   "cell_type": "code",
   "execution_count": 8,
   "metadata": {},
   "outputs": [
    {
     "name": "stdout",
     "output_type": "stream",
     "text": [
      "[[0. 1. 2. 3. 4. 5. 6.]\n",
      " [1. 0. 0. 0. 0. 0. 0.]\n",
      " [2. 0. 0. 0. 0. 0. 0.]\n",
      " [3. 0. 0. 0. 0. 0. 0.]\n",
      " [4. 0. 0. 0. 0. 0. 0.]\n",
      " [5. 0. 0. 0. 0. 0. 0.]\n",
      " [6. 0. 0. 0. 0. 0. 0.]\n",
      " [7. 0. 0. 0. 0. 0. 0.]]\n",
      "3.0\n",
      "[[0. 1. 2. 3. 4.]\n",
      " [1. 0. 0. 0. 0.]\n",
      " [2. 0. 0. 0. 0.]\n",
      " [3. 0. 0. 0. 0.]\n",
      " [4. 0. 0. 0. 0.]]\n",
      "3.0\n",
      "[[0. 1. 2. 3. 4.]]\n",
      "4.0\n",
      "[[0. 1. 2. 3. 4.]\n",
      " [1. 0. 0. 0. 0.]\n",
      " [2. 0. 0. 0. 0.]\n",
      " [3. 0. 0. 0. 0.]\n",
      " [4. 0. 0. 0. 0.]\n",
      " [5. 0. 0. 0. 0.]\n",
      " [6. 0. 0. 0. 0.]\n",
      " [7. 0. 0. 0. 0.]\n",
      " [8. 0. 0. 0. 0.]]\n",
      "4.0\n",
      "0.0034019947052001953\n"
     ]
    }
   ],
   "source": [
    "\"\"\"\n",
    "Interative with full matrix\n",
    "\"\"\"\n",
    "\n",
    "import numpy as np\n",
    "\n",
    "def levenshtein_distance_matrix(src, dst):\n",
    "    m = len(src)\n",
    "    n = len(dst)\n",
    "    # 初始化二位数组，保存中间值。多一维可以用来处理 src/dst 为空字符串的情况\n",
    "    # d[i, j] 表示 src[0,i] 与 dst[0,j] 之间的距离 \n",
    "    d = np.zeros((n+1, m+1))\n",
    "#     print(d.shape)\n",
    "\n",
    "    \n",
    "    # 第一列赋值\n",
    "    for i in range(1, n+1):\n",
    "        d[i][0] = i\n",
    "    \n",
    "    # 第一行赋值\n",
    "    for j in range(1, m+1):\n",
    "        d[0][j] = j\n",
    "    \n",
    "    print(d)\n",
    "    for j in range(1, m+1):\n",
    "        for i in range(1, n+1):\n",
    "            if src[j-1] == dst[i-1]:\n",
    "                cost = 0\n",
    "            else:\n",
    "                cost = 1\n",
    "            d[i, j] = min(d[i-1, j] + 1,\n",
    "                         d[i, j-1] + 1,\n",
    "                         d[i-1, j-1] + cost)\n",
    "    \n",
    "    print(d[-1][-1])\n",
    "    return d[-1][-1]\n",
    "\n",
    "import time\n",
    "start = time.time()\n",
    "assert levenshtein_distance_matrix(\"kitten\", \"sitting\") == 3\n",
    "assert levenshtein_distance_matrix('ebab', 'abcd') == 3\n",
    "assert levenshtein_distance_matrix('1234', '') == 4\n",
    "assert levenshtein_distance_matrix('kilo', 'kilogram') == 4\n",
    "print(time.time() - start)"
   ]
  }
 ],
 "metadata": {
  "kernelspec": {
   "display_name": "Python 3",
   "language": "python",
   "name": "python3"
  },
  "language_info": {
   "codemirror_mode": {
    "name": "ipython",
    "version": 3
   },
   "file_extension": ".py",
   "mimetype": "text/x-python",
   "name": "python",
   "nbconvert_exporter": "python",
   "pygments_lexer": "ipython3",
   "version": "3.6.5"
  }
 },
 "nbformat": 4,
 "nbformat_minor": 4
}
