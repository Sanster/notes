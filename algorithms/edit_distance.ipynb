{
 "cells": [
  {
   "cell_type": "code",
   "execution_count": 8,
   "metadata": {},
   "outputs": [
    {
     "data": {
      "text/plain": [
       "2"
      ]
     },
     "execution_count": 8,
     "metadata": {},
     "output_type": "execute_result"
    }
   ],
   "source": [
    "\"\"\"\n",
    "http://www.dreamxu.com/books/dsa/dp/edit-distance.html\n",
    "https://en.wikipedia.org/wiki/Levenshtein_distance\n",
    "编辑距离\n",
    "给定 2 个字符串 a, b. 编辑距离是将 a 转换为 b 的最少操作次数，操作只允许如下 3 种：\n",
    "\n",
    "1. 插入一个字符，例如：fj -> fxj\n",
    "2. 删除一个字符，例如：fxj -> fj\n",
    "3. 替换一个字符，例如：jxj -> fyj\n",
    "\"\"\"\n",
    "\n",
    "def edit_distance_recursice(str_a, str_b):\n",
    "    cost = 0\n",
    "    len_a = len(str_a)\n",
    "    len_b = len(str_b)\n",
    "    \n",
    "    # 有某一个字符串为空\n",
    "    if len_a == 0:\n",
    "        return len_b\n",
    "    if len_b == 0:\n",
    "        return len_a\n",
    "    \n",
    "    # 最后一个字母是否相同\n",
    "    if str_a[-1] == str_b[-1]:\n",
    "        cost = 0\n",
    "    else:\n",
    "        cost = 1\n",
    "    \n",
    "    return min(edit_distance_recursice(str_a[0:-1], str_b) + 1,\n",
    "              edit_distance_recursice(str_a, str_b[0:-1]) + 1,\n",
    "              edit_distance_recursice(str_a[0:-1], str_b[0:-1]) + cost)\n",
    "\n",
    "edit_distance_recursice('abc', 'bcd')\n",
    "    "
   ]
  },
  {
   "cell_type": "code",
   "execution_count": null,
   "metadata": {},
   "outputs": [],
   "source": [
    "\"\"\"\n",
    "https://www.quora.com/How-do-I-figure-out-how-to-iterate-over-the-parameters-and-write-bottom-up-solutions-to-dynamic-programming-related-problems/answer/Michal-Danil%C3%A1k?srid=3OBi&share=1\n",
    "\"\"\""
   ]
  }
 ],
 "metadata": {
  "kernelspec": {
   "display_name": "Python 3",
   "language": "python",
   "name": "python3"
  },
  "language_info": {
   "codemirror_mode": {
    "name": "ipython",
    "version": 3
   },
   "file_extension": ".py",
   "mimetype": "text/x-python",
   "name": "python",
   "nbconvert_exporter": "python",
   "pygments_lexer": "ipython3",
   "version": "3.5.2"
  }
 },
 "nbformat": 4,
 "nbformat_minor": 2
}
