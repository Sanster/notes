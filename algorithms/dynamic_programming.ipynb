{
 "cells": [
  {
   "cell_type": "markdown",
   "metadata": {},
   "source": [
    "https://www.hackerearth.com/zh/practice/notes/dynamic-programming-i-1/\n",
    "\n",
    "用空间换时间，把所有子问题的结果记录下来\n",
    "两类问题：\n",
    "- Optimization problems 优化问题\n",
    "- Combinatorial problems 组合问题\n",
    "\n",
    "解决问题的一般模式：\n",
    "- 问题可以被分解成 optimal sub-problems.\n",
    "- Recursively define the value of the solution by expressing it in terms of optimal solutions for smaller sub-problems.\n",
    "- Compute the value of the optimal solution in bottom-up fashion.\n",
    "- Construct an optimal solution from the computed information.\n"
   ]
  },
  {
   "cell_type": "code",
   "execution_count": 5,
   "metadata": {},
   "outputs": [
    {
     "name": "stdout",
     "output_type": "stream",
     "text": [
      "递归：24157817  3.971650s\n",
      "动态规划：24157817  0.000039s\n"
     ]
    }
   ],
   "source": [
    "\"\"\"\n",
    "斐波拉切数列\n",
    "\"\"\"\n",
    "import time\n",
    "\n",
    "f = 36\n",
    "def fib(n):\n",
    "    if n<2:\n",
    "        return 1\n",
    "    return fib(n-1) + fib(n-2)\n",
    "\n",
    "start_time = time.time()\n",
    "print(\"递归：%d  %fs\" % (fib(f), time.time() - start_time))\n",
    "\n",
    "\n",
    "\n",
    "def dp_fib(n):\n",
    "    fibresult = [1,1]\n",
    "    for i in range(2,n+1):\n",
    "        fibresult.append(fibresult[i-1] + fibresult[i-2])\n",
    "    \n",
    "    return fibresult[n]\n",
    "\n",
    "start_time=time.time()\n",
    "print(\"动态规划：%d  %fs\" % (dp_fib(f), time.time() - start_time))"
   ]
  },
  {
   "cell_type": "code",
   "execution_count": 8,
   "metadata": {},
   "outputs": [
    {
     "name": "stdout",
     "output_type": "stream",
     "text": [
      "6\n"
     ]
    }
   ],
   "source": [
    "\"\"\"\n",
    "Let us say that you are given a number N, \n",
    "you've to find the number of different ways to write it as the sum of 1, 3 and 4.\n",
    "\n",
    "For example, if N = 5, the answer would be 6.\n",
    "\n",
    "1 + 1 + 1 + 1 + 1\n",
    "1 + 4\n",
    "4 + 1\n",
    "1 + 1 + 3\n",
    "1 + 3 + 1\n",
    "3 + 1 + 1\n",
    "\"\"\"\n",
    "\n",
    "def num_N(n):\n",
    "    # dpn 用于保存不同 n 的计算结果\n",
    "    # n=1/2/3，则只有一种组合方式\n",
    "    # n=4，有两种组合方式\n",
    "    dpn=[1,1,1,2]\n",
    "    for i in range(4, n+1):\n",
    "        dpn.append(dpn[i-1]+dpn[i-3]+dpn[i-4])\n",
    "    return dpn[n]\n",
    "\n",
    "assert num_N(5)==6"
   ]
  },
  {
   "cell_type": "code",
   "execution_count": 25,
   "metadata": {},
   "outputs": [
    {
     "name": "stdout",
     "output_type": "stream",
     "text": [
      "1118, 0.507715s, func run times: 2097151\n",
      "1118, 0.000172s, func run times: 421\n"
     ]
    }
   ],
   "source": [
    "\"\"\"\n",
    "https://www.quora.com/Are-there-any-good-resources-or-tutorials-for-dynamic-programming-DP-besides-the-TopCoder-tutorial/answer/Michal-Danil%C3%A1k?share=1&srid=3OBi\n",
    "卖红酒问题\n",
    "有 N 瓶红酒排成一排，每瓶红酒的价格为 p1,p2..,pn\n",
    "每瓶红酒的售价为年份 y * pn，假设今年为 y=1\n",
    "每次年只能卖一瓶红酒，而且只能卖最左或最右的那瓶。\n",
    "\n",
    "给出一组红酒的排列，求能卖出的最好价钱\n",
    "\"\"\"\n",
    "\n",
    "import time\n",
    "\n",
    "# 每瓶红酒的价格\n",
    "prices=[2,3,5,1,4,6,4,3,7,8,3,4,6,8,9,3,2,6,4,3]\n",
    "N = len(prices)\n",
    "\n",
    "func_run_counter=0\n",
    "def sell_wine(year, begin, end):\n",
    "    \"\"\"时间复杂度 2^N，因为每一年卖酒都有两种选择\"\"\"\n",
    "    global func_run_counter\n",
    "    func_run_counter+=1\n",
    "    if begin>end:\n",
    "        return 0\n",
    "    return max(sell_wine(year+1, begin+1, end) + year * prices[begin],\n",
    "                   sell_wine(year+1, begin,end-1)+year*prices[end])\n",
    "\n",
    "start_time=time.time()\n",
    "print(\"%d, %fs, func run times: %d\" % (sell_wine(1, 0, N-1), time.time() - start_time, func_run_counter))\n",
    "\n",
    "# 二维数组 [N][N]，缓存不同 begin、end 组合对应的售价\n",
    "year_sell_cache =[[-1 for _ in range(N)]  for _ in range(N)]\n",
    "func_run_counter=0\n",
    "def sell_wine2(begin, end):\n",
    "    \"\"\"时间复杂度 N^2，把 year 从参数中去掉，简化参数。将计算的结果保存起来\"\"\"\n",
    "    global func_run_counter\n",
    "    func_run_counter+=1\n",
    "    \n",
    "    if begin>end:\n",
    "        return 0\n",
    "    \n",
    "    if year_sell_cache[begin][end]!=-1:\n",
    "        return year_sell_cache[begin][end]\n",
    "    \n",
    "    year = N - (end-begin+1) +1\n",
    "    max_sell = max(sell_wine2(begin+1, end) + year*prices[begin],\n",
    "              sell_wine2(begin,end-1) + year*prices[end])\n",
    "    year_sell_cache[begin][end]=max_sell\n",
    "    return max_sell\n",
    "\n",
    "start_time=time.time()\n",
    "print(\"%d, %fs, func run times: %d\" % (sell_wine2(0, N-1), time.time() - start_time, func_run_counter))\n"
   ]
  },
  {
   "cell_type": "code",
   "execution_count": null,
   "metadata": {},
   "outputs": [],
   "source": []
  }
 ],
 "metadata": {
  "kernelspec": {
   "display_name": "Python 3",
   "language": "python",
   "name": "python3"
  },
  "language_info": {
   "codemirror_mode": {
    "name": "ipython",
    "version": 3
   },
   "file_extension": ".py",
   "mimetype": "text/x-python",
   "name": "python",
   "nbconvert_exporter": "python",
   "pygments_lexer": "ipython3",
   "version": "3.5.2"
  }
 },
 "nbformat": 4,
 "nbformat_minor": 2
}
