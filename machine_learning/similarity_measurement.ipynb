{
 "cells": [
  {
   "cell_type": "markdown",
   "metadata": {},
   "source": [
    "计算两个样本之间的相似度，通常采用计算两个样本之间的距离来衡量，以下列出多种距离的公式及 python 实现。\n",
    "- 欧氏距离（Euclidean Distance）\n",
    "- 曼哈顿距离（Manhattan Distance）\n",
    "- 切比雪夫距离\n",
    "- 闵科夫斯基距离\n",
    "- 标准化欧氏距离\n",
    "- 马氏距离\n",
    "- 夹角余弦\n",
    "- 汉明距离\n",
    "- 杰卡德距离 & 杰卡德相似系数\n",
    "- 相关系数 & 相关距离\n",
    "- 信息熵\n",
    "\n",
    "### 输入定义\n",
    "二维平面上的两点\n",
    "- $A(x_1, y_1)$ \n",
    "- $B(x_2, y_2)$\n",
    "\n",
    "两个 n 维向量\n",
    "- $A(a_1, a_2, ..., a_n)$\n",
    "- $B(b_1, b_2, ..., b_n)$\n",
    "\n",
    "### 欧氏距离 Euclidean Distance\n",
    "计算欧式空间中两点的距离\n",
    "\n",
    "- 二维平面：$d_{12}=\\sqrt{(x_1-x_2)^2+(y_1+y_2)^2}$\n",
    "\n",
    "- n 维向量：$d_{12}=\\sqrt{\\sum_{k=1}^n(a_k-b_k)^2}$\n",
    "\n",
    "### 曼哈顿距离 Manhattan Distance\n",
    "<img src=\"image/manhattan_distance.png\" width=240 height=240/>\n",
    "\n",
    "红黄蓝线为曼哈顿距离\n",
    "\n",
    "- 二维平面：$d_{12}=|(x_1-x_2)|+|y_1+y_2)|$\n",
    "\n",
    "- n 维向量：$d_{12}=\\sum_{k=1}^n|a_k-b_k|$\n",
    "\n",
    "### 切比雪夫距离 Chebyshev Distance\n",
    "<img src=\"image/chebyshev_distance.png\" width=240 height=240/>\n",
    "\n",
    "国际象棋中，国王可以走周围8个位置，切比雪夫距离既指按照这种走法获得的两点之间的距离\n",
    "\n",
    "- 二维平面：$d_{12}=max(|x_1-x_2|，|y_1-y_2|)$\n",
    "\n",
    "- n 维向量：$d_{12}=\\max\\limits_i(|a_i-b_i|)$\n",
    "\n",
    "### 闵可夫斯基距离 Minkowski Distance\n",
    "根据公式中 $p$ 取不同的值，及对应欧氏距离、曼哈顿距离、切比雪夫距离\n",
    "\n",
    "$d_{12}=\\displaystyle \\sqrt[p]{\\sum_{k=1}^n{|a_i-b_i|}^p}$\n",
    "- $p=1$：曼哈顿距离\n",
    "- $p=2$：欧氏距离\n",
    "- $p\\to \\infty$: 切比雪夫距离"
   ]
  }
 ],
 "metadata": {
  "kernelspec": {
   "display_name": "Python 3",
   "language": "python",
   "name": "python3"
  },
  "language_info": {
   "codemirror_mode": {
    "name": "ipython",
    "version": 3
   },
   "file_extension": ".py",
   "mimetype": "text/x-python",
   "name": "python",
   "nbconvert_exporter": "python",
   "pygments_lexer": "ipython3",
   "version": "3.5.2"
  }
 },
 "nbformat": 4,
 "nbformat_minor": 2
}
