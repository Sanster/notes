{
 "cells": [
  {
   "cell_type": "markdown",
   "metadata": {},
   "source": [
    "# Single variable Linear regression\n",
    "\n",
    "- hypothesis function：关于 x 的函数，用 $h(x)=\\theta_0+\\theta_1x$ 表示\n",
    "- cost function：关于待求参数($\\theta$)的函数，用 $J(\\theta_0, \\theta_1)$ 表示\n",
    "- Square error cost function: $\\frac{1}{2m}\\sum_{i=1}^m(h(x^i)-y^i)^2$\n",
    "- 梯度下降算法(Gradient descent algorithm)：  \n",
    "$temp0 := \\theta_0 - \\alpha\\frac{\\partial}{\\partial\\theta_0}J(\\theta_0,\\theta_1)$  \n",
    "$temp1 := \\theta_1 - \\alpha\\frac{\\partial}{\\partial\\theta_1}J(\\theta_0,\\theta_1)$  \n",
    "$\\theta_0=temp0$  \n",
    "$\\theta_1=temp1$\n",
    "\n",
    "斜率为正时，$\\theta_1$减去一个正数，变小斜率为负数时，$theta_1$减去一个负数，变大。随着\n",
    "误差越来越小，梯度也会越来越小，所以即使 learning rate 一直不变，也是能够收敛的。\n",
    "![Gradient descent](./image/gradient_descent.png)\n",
    "\n",
    "- 凸函数(convex function)：没有局部最优解，只有全局最优解\n",
    "- \"Batch\" Gradient Descent：使用所有训练样本计算梯度\n"
   ]
  },
  {
   "cell_type": "code",
   "execution_count": 15,
   "metadata": {},
   "outputs": [
    {
     "name": "stdout",
     "output_type": "stream",
     "text": [
      "Coefficients:  [938.23786125]\n",
      "Mean squared error: 25509.23\n",
      "Variance score: 0.34\n"
     ]
    },
    {
     "data": {
      "image/png": "[encoded data removed]",
      "text/plain": [
       "<Figure size 432x288 with 1 Axes>"
      ]
     },
     "metadata": {},
     "output_type": "display_data"
    }
   ],
   "source": [
    "# http://scikit-learn.org/stable/auto_examples/linear_model/plot_ols.html#sphx-glr-auto-examples-linear-model-plot-ols-py\n",
    "%matplotlib inline\n",
    "import matplotlib.pyplot as plt\n",
    "import numpy as np\n",
    "from sklearn import datasets, linear_model\n",
    "from sklearn.metrics import mean_squared_error, r2_score\n",
    "\n",
    "# Load the diabetes dataset\n",
    "diabetes = datasets.load_diabetes()\n",
    "\n",
    "# Use only one feature\n",
    "diabetes_X = diabetes.data[:, np.newaxis, 2]\n",
    "\n",
    "# Split the data into training/testing sets\n",
    "diabetes_X_train = diabetes_X[:-20]\n",
    "\n",
    "# Split the targets into training/testing sets\n",
    "diabetes_y_train = diabetes.target[:-20]\n",
    "\n",
    "# Create linear regression object\n",
    "regr = linear_model.LinearRegression()\n",
    "\n",
    "# Train the model using the training sets\n",
    "regr.fit(diabetes_X_train, diabetes_y_train)\n",
    "\n",
    "# Make predictions using the testing set\n",
    "diabetes_y_pred = regr.predict(diabetes_X_train)\n",
    "\n",
    "print('Coefficients: ', regr.coef_)\n",
    "print(\"Mean squared error: %.2f\" % mean_squared_error(diabetes_X_train, diabetes_y_pred))\n",
    "print('Variance score: %.2f' % r2_score(diabetes_y_train, diabetes_y_pred))\n",
    "\n",
    "# Plot outputs\n",
    "plt.scatter(diabetes_X_train, diabetes_y_train,  color='black')\n",
    "plt.plot(diabetes_X_train, diabetes_y_pred, color='blue', linewidth=3)\n",
    "plt.show()\n"
   ]
  },
  {
   "cell_type": "markdown",
   "metadata": {},
   "source": [
    "# Multiple variables linear regression\n",
    "\n",
    "- Hypothesis function: $h_\\theta(x)=\\theta_0x_0+\\theta_1x_1+\\theta_2x_2+...+\\theta_nx_n$，其中$x_0$总是等于 1（为了写公式方便）,又可以写成 $h_\\theta(x)=\\theta^Tx$\n",
    "- 梯度下降的公式：$\\theta_j := \\theta_j-\\alpha\\frac{1}{m}\\sum_{i=1}^m(h_\\theta(x^i)-y^i)x_j^i$"
   ]
  },
  {
   "cell_type": "markdown",
   "metadata": {},
   "source": [
    "# Feature Scaling\n",
    "> Make sure features are on a similar scale\n",
    "\n",
    "确保所有特征值在同一个尺度下，可以加快梯度下降的**速度**（数学证明？）\n",
    "\n",
    "![feature scaling](./image/feature_scaling.png)\n",
    "\n",
    "## Mean normalization\n",
    "> Make features have approximately zero mean.  \n",
    "\n",
    "减去平均值后再除以最大值"
   ]
  },
  {
   "cell_type": "markdown",
   "metadata": {},
   "source": [
    "# Polynomial regression 多项式回归\n",
    "- 特征的不同组合、使用方式会影响回归的结果，例如房子的长度、宽度信息可以组成面积信息\n",
    "- 要从众多的多项式形式中选择一个 Hypothesis function，例子：$h_\\theta(x)=\\theta_0+\\theta_1x+\\theta_2x^2$\n",
    "\n"
   ]
  },
  {
   "cell_type": "markdown",
   "metadata": {},
   "source": [
    "# Logistic Regression 逻辑回归\n",
    "- Hypothesis function: $h_\\theta(x)=g(\\theta^Tx)$\n",
    "- Logistic/Sigmoid 函数: $g(z)=\\frac{1}{1+e^{-z}},z=\\theta^Tx$\n",
    "- 用于分类问题\n",
    "- 输出值永远在 $[0, 1]$ 之间，logistic 函数的输出可以看成输入 $x$ 归为某一类的概率\n",
    "- 以 0.5 作为分类阈值\n",
    "- TODO: sigmoid 的图\n",
    "- Decision Boundary：分类的分界线，hypothesis function 的属性，与数据集无关，与 $\\theta$ 有关（加图）\n",
    "- Non-linear desicion boundary：可以在选择高阶复杂多项式作为 $z$，如 $g(\\theta_0+\\theta_1x_1^2+\\theta_2x_2^2)$\n"
   ]
  },
  {
   "cell_type": "code",
   "execution_count": null,
   "metadata": {},
   "outputs": [],
   "source": []
  },
  {
   "cell_type": "code",
   "execution_count": null,
   "metadata": {},
   "outputs": [],
   "source": []
  },
  {
   "cell_type": "code",
   "execution_count": null,
   "metadata": {},
   "outputs": [],
   "source": []
  },
  {
   "cell_type": "code",
   "execution_count": null,
   "metadata": {},
   "outputs": [],
   "source": []
  },
  {
   "cell_type": "code",
   "execution_count": null,
   "metadata": {},
   "outputs": [],
   "source": []
  },
  {
   "cell_type": "code",
   "execution_count": null,
   "metadata": {},
   "outputs": [],
   "source": []
  },
  {
   "cell_type": "code",
   "execution_count": null,
   "metadata": {},
   "outputs": [],
   "source": []
  }
 ],
 "metadata": {
  "kernelspec": {
   "display_name": "Python 3",
   "language": "python",
   "name": "python3"
  },
  "language_info": {
   "codemirror_mode": {
    "name": "ipython",
    "version": 3
   },
   "file_extension": ".py",
   "mimetype": "text/x-python",
   "name": "python",
   "nbconvert_exporter": "python",
   "pygments_lexer": "ipython3",
   "version": "3.6.3"
  }
 },
 "nbformat": 4,
 "nbformat_minor": 2
}
