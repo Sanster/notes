{
 "cells": [
  {
   "cell_type": "markdown",
   "metadata": {},
   "source": [
    "# 最大似然估计\n",
    "\n",
    "最大似然估计是一种用来**估计**模型参数的方法，通过观察给定的数据来估计模型参数\n",
    "- 采取的准则是：计算出的参数值带入模型(??)后，能够使已知样本（训练集）出现的概率最大。\n",
    "- 假设：样本数据是独立分布的\n",
    "\n",
    "基本步骤：\n",
    "1. 定义似然函数\n",
    "2. 对似然函数取对数，将连积公式转换成累加\n",
    "3. 即对各参数求偏导\n",
    "4. 判断求偏导后的方程组是否有解。若有解，则其解即为所求的最大似然估计值;若无解，则取边界值\n",
    "\n",
    "- 概率：已知模型和参数，求数据\n",
    "- 统计：已知数据，求模型和参数\n",
    "\n",
    "对于表达式 $p(x|\\theta)$ 的理解，$x$ 是数据，$\\theta$ 是模型的参数：\n",
    "- 如果 $\\theta$ 确定，$x$ 为变量，这时候叫做**概率函数**(probability function)，它描述对于不同的样本点 $x$，其出现的概率是多少。\n",
    "- 如果 $x$ 确定，$\\theta$ 为变量这个函数就叫做**似然函数**(likelihood function)，它描述不同的模型参数，出现 $x$ 这个样本点的概率是多少。\n",
    "\n",
    "\n",
    "# 直观的理解\n",
    "\n",
    "# 以符合高斯分布的数据为示例\n",
    "假设有如下一组数据：\n",
    "\n",
    "![img1](https://cdn-images-1.medium.com/max/800/1*Z3JJGvEtOjmpLFvmWiUR3Q.png)\n",
    "\n",
    "首先要诀定用哪个模型来描述数据，这一步重要，否则根本不知道要求哪些参数，\n",
    "这里假定这些数据符合 Gaussian 分布。高斯分布有两个参数，均值 $u$ 和标准差 $\\theta$，\n",
    "上面假设的数据应该是符合蓝色的曲线：\n",
    "\n",
    "![img2](https://cdn-images-1.medium.com/max/800/1*uLKl0Nz1vFg6bmfiqpCKZQ.png)\n",
    "\n",
    "**最大似然估计**的作用就是求出均值 $u$ 和标准差 $\\theta$，计算出的值称为 $u$ 和 $\\theta$ 的最大估计值（maximum likelihood estimates）。\n",
    "\n",
    "为了求解参数的最大估计值，需要求出数据的联合概率密度，如果样本之间是相关的，这个值很难求（？？），所以最大似然估计有个前提条件：**各个样本是独立分布的**，在这个条件下，数据的总概率密度可以表示为各个样本的概率密度之积。\n",
    "\n",
    "高斯函数的概率密度函数为：$P(x;u,\\sigma)=\\frac{1}{\\sigma\\sqrt{2\\pi}}exp(-\\frac{(x-u)^2}{2\\sigma^2})$，\n",
    "分号表示 $u$ 和 $\\sigma$ 是我们要求的变量。\n",
    "\n",
    "假设我们的数据只有三个值 $9, 9.5, 11$，则这组数据的总概率密度可以写为：\n",
    "\n",
    "![img3](https://cdn-images-1.medium.com/max/800/1*rFzbQ614IR4zEwBM3k1V0Q.png)\n",
    "\n",
    "上述式子取到最大值时 $u$ 和 $\\sigma$ 的值即为我们要求的最大似然估计值。\n",
    "\n",
    "为了简化求导计算，一般都是对原始的式子求自然对数（natural logarithm）。自然对数是单调递增的，\n",
    "所以自然对数的最大值对应的点一定能再映射到原始式子上。然后上面的式子可以写成：\n",
    "\n",
    "![img4](https://cdn-images-1.medium.com/max/1600/1*iEdEaqWWiruaw_Fr2ophxw.png)\n",
    "\n",
    "进一步简化：\n",
    "\n",
    "![img5](https://cdn-images-1.medium.com/max/1600/1*xjDrGJ_JHLMa7619jFkjLA.png)\n",
    "\n",
    "对 $u$ 求偏导，并使表达式等于 0，即可求出 $u$ 的最大似然估计值，同理可以算出 $\\theta$：\n",
    "\n",
    "![img6](https://cdn-images-1.medium.com/max/1600/1*kdjQQo5jUX9a2Z0kblJ4Hg.png)\n",
    "![img7](https://cdn-images-1.medium.com/max/1600/1*rHtqdjFXRw4sdnLU9n_WsQ.png)\n",
    "\n",
    "\n"
   ]
  },
  {
   "cell_type": "markdown",
   "metadata": {},
   "source": [
    "# 使用最大似然估计进行线性回归\n",
    "\n",
    "线性回归可以用如下的方程表示：\n",
    "\\begin{eqnarray}\n",
    "y ({\\bf x}) = \\beta^T {\\bf x} + \\epsilon = \\sum_{j=0}^p \\beta_j x_j + \\epsilon\n",
    "\\end{eqnarray}\n",
    "\n",
    "其中 $\\beta^T$ 和 $\\bf x$ 都是 $p+1$ 维的向量 $\\beta^T, {\\bf x} \\in \\mathbb{R}^{p+1}$，$\\beta^T = (\\beta_0, \\beta_1, \\ldots, \\beta_p)$，${\\bf x} = (1, x_1, \\ldots, x_p)$，直线里面的截距相当于 $\\beta_0$，这种写法是符号上的简化写法。$\\epsilon$ 符合正太分布 $\\epsilon \\sim \\mathcal{N}(\\mu, \\sigma^2)$，代表误差。\n",
    "\n",
    "把线性回归看成是条件概率(conditional probability density，PCD)模型 $p(y|\\bf x, \\theta)$，"
   ]
  },
  {
   "cell_type": "code",
   "execution_count": 16,
   "metadata": {},
   "outputs": [
    {
     "data": {
      "image/png": "[encoded data removed]",
      "text/plain": [
       "<Figure size 432x288 with 1 Axes>"
      ]
     },
     "metadata": {},
     "output_type": "display_data"
    }
   ],
   "source": [
    "import numpy as np, pandas as pd\n",
    "from matplotlib import pyplot as plt\n",
    "import seaborn as sns\n",
    "from scipy.optimize import minimize\n",
    "import scipy.stats as stats\n",
    "import pymc3 as pm3\n",
    "import numdifftools as ndt\n",
    "import statsmodels.api as sm\n",
    "from statsmodels.base.model import GenericLikelihoodModel\n",
    "%matplotlib inline\n",
    "\n",
    "# generate adta\n",
    "N = 100\n",
    "x = np.linspace(0,20,N)\n",
    "ϵ = np.random.normal(loc = 0.0, scale = 5.0, size = N)\n",
    "y = 3*x + ϵ\n",
    "df = pd.DataFrame({'y':y, 'x':x})\n",
    "df['constant'] = 1\n",
    "\n",
    "# plot\n",
    "sns.regplot(df.x, df.y)\n",
    "\n",
    "# split features and target\n",
    "X = df[['constant', 'x']]"
   ]
  },
  {
   "cell_type": "code",
   "execution_count": 23,
   "metadata": {},
   "outputs": [
    {
     "data": {
      "text/html": [
       "<table class=\"simpletable\">\n",
       "<caption>OLS Regression Results</caption>\n",
       "<tr>\n",
       "  <th>Dep. Variable:</th>            <td>y</td>        <th>  R-squared:         </th> <td>   0.912</td>\n",
       "</tr>\n",
       "<tr>\n",
       "  <th>Model:</th>                   <td>OLS</td>       <th>  Adj. R-squared:    </th> <td>   0.911</td>\n",
       "</tr>\n",
       "<tr>\n",
       "  <th>Method:</th>             <td>Least Squares</td>  <th>  F-statistic:       </th> <td>   1019.</td>\n",
       "</tr>\n",
       "<tr>\n",
       "  <th>Date:</th>             <td>Wed, 18 Jul 2018</td> <th>  Prob (F-statistic):</th> <td>1.38e-53</td>\n",
       "</tr>\n",
       "<tr>\n",
       "  <th>Time:</th>                 <td>14:01:00</td>     <th>  Log-Likelihood:    </th> <td> -311.09</td>\n",
       "</tr>\n",
       "<tr>\n",
       "  <th>No. Observations:</th>      <td>   100</td>      <th>  AIC:               </th> <td>   626.2</td>\n",
       "</tr>\n",
       "<tr>\n",
       "  <th>Df Residuals:</th>          <td>    98</td>      <th>  BIC:               </th> <td>   631.4</td>\n",
       "</tr>\n",
       "<tr>\n",
       "  <th>Df Model:</th>              <td>     1</td>      <th>                     </th>     <td> </td>   \n",
       "</tr>\n",
       "<tr>\n",
       "  <th>Covariance Type:</th>      <td>nonrobust</td>    <th>                     </th>     <td> </td>   \n",
       "</tr>\n",
       "</table>\n",
       "<table class=\"simpletable\">\n",
       "<tr>\n",
       "      <td></td>        <th>coef</th>     <th>std err</th>      <th>t</th>      <th>P>|t|</th>  <th>[0.025</th>    <th>0.975]</th>  \n",
       "</tr>\n",
       "<tr>\n",
       "  <th>constant</th> <td>    0.3716</td> <td>    1.089</td> <td>    0.341</td> <td> 0.734</td> <td>   -1.789</td> <td>    2.533</td>\n",
       "</tr>\n",
       "<tr>\n",
       "  <th>x</th>        <td>    3.0028</td> <td>    0.094</td> <td>   31.923</td> <td> 0.000</td> <td>    2.816</td> <td>    3.190</td>\n",
       "</tr>\n",
       "</table>\n",
       "<table class=\"simpletable\">\n",
       "<tr>\n",
       "  <th>Omnibus:</th>       <td> 7.678</td> <th>  Durbin-Watson:     </th> <td>   1.622</td>\n",
       "</tr>\n",
       "<tr>\n",
       "  <th>Prob(Omnibus):</th> <td> 0.022</td> <th>  Jarque-Bera (JB):  </th> <td>   7.219</td>\n",
       "</tr>\n",
       "<tr>\n",
       "  <th>Skew:</th>          <td> 0.591</td> <th>  Prob(JB):          </th> <td>  0.0271</td>\n",
       "</tr>\n",
       "<tr>\n",
       "  <th>Kurtosis:</th>      <td> 3.579</td> <th>  Cond. No.          </th> <td>    23.1</td>\n",
       "</tr>\n",
       "</table><br/><br/>Warnings:<br/>[1] Standard Errors assume that the covariance matrix of the errors is correctly specified."
      ],
      "text/plain": [
       "<class 'statsmodels.iolib.summary.Summary'>\n",
       "\"\"\"\n",
       "                            OLS Regression Results                            \n",
       "==============================================================================\n",
       "Dep. Variable:                      y   R-squared:                       0.912\n",
       "Model:                            OLS   Adj. R-squared:                  0.911\n",
       "Method:                 Least Squares   F-statistic:                     1019.\n",
       "Date:                Wed, 18 Jul 2018   Prob (F-statistic):           1.38e-53\n",
       "Time:                        14:01:00   Log-Likelihood:                -311.09\n",
       "No. Observations:                 100   AIC:                             626.2\n",
       "Df Residuals:                      98   BIC:                             631.4\n",
       "Df Model:                           1                                         \n",
       "Covariance Type:            nonrobust                                         \n",
       "==============================================================================\n",
       "                 coef    std err          t      P>|t|      [0.025      0.975]\n",
       "------------------------------------------------------------------------------\n",
       "constant       0.3716      1.089      0.341      0.734      -1.789       2.533\n",
       "x              3.0028      0.094     31.923      0.000       2.816       3.190\n",
       "==============================================================================\n",
       "Omnibus:                        7.678   Durbin-Watson:                   1.622\n",
       "Prob(Omnibus):                  0.022   Jarque-Bera (JB):                7.219\n",
       "Skew:                           0.591   Prob(JB):                       0.0271\n",
       "Kurtosis:                       3.579   Cond. No.                         23.1\n",
       "==============================================================================\n",
       "\n",
       "Warnings:\n",
       "[1] Standard Errors assume that the covariance matrix of the errors is correctly specified.\n",
       "\"\"\""
      ]
     },
     "execution_count": 23,
     "metadata": {},
     "output_type": "execute_result"
    }
   ],
   "source": [
    "# use ordinary least squares to fit model and summarize\n",
    "sm.OLS(y,X).fit().summary()"
   ]
  },
  {
   "cell_type": "code",
   "execution_count": 21,
   "metadata": {},
   "outputs": [
    {
     "name": "stdout",
     "output_type": "stream",
     "text": [
      "Optimization terminated successfully.\n",
      "         Current function value: 311.092537\n",
      "         Iterations: 129\n",
      "         Function evaluations: 220\n"
     ]
    },
    {
     "data": {
      "text/plain": [
       " final_simplex: (array([[0.37163639, 3.00284019, 5.4302421 ],\n",
       "       [0.37158055, 3.00284333, 5.43027884],\n",
       "       [0.37157031, 3.00284333, 5.43023576],\n",
       "       [0.37161021, 3.00284554, 5.43024114]]), array([311.09253747, 311.09253747, 311.09253747, 311.09253747]))\n",
       "           fun: 311.0925374687162\n",
       "       message: 'Optimization terminated successfully.'\n",
       "          nfev: 220\n",
       "           nit: 129\n",
       "        status: 0\n",
       "       success: True\n",
       "             x: array([0.37163639, 3.00284019, 5.4302421 ])"
      ]
     },
     "execution_count": 21,
     "metadata": {},
     "output_type": "execute_result"
    }
   ],
   "source": [
    "# define likelihood function\n",
    "def MLERegression(params):\n",
    "    intercept, beta, sd = params[0], params[1], params[2] # inputs are guesses at our parameters\n",
    "    yhat = intercept + beta*x # predictions\n",
    "    # next, we flip the Bayesian question\n",
    "    # compute PDF of observed values normally distributed around mean (yhat)\n",
    "    # with a standard deviation of sd\n",
    "    negLL = -np.sum( stats.norm.logpdf(y, loc=yhat, scale=sd) )\n",
    "    # return negative LL\n",
    "    return(negLL)\n",
    "\n",
    "guess = np.array([5,5,2])\n",
    "results = minimize(MLERegression, guess, method='Nelder-Mead', options={'disp': True})\n",
    "results"
   ]
  },
  {
   "cell_type": "code",
   "execution_count": 22,
   "metadata": {},
   "outputs": [
    {
     "data": {
      "text/html": [
       "<div>\n",
       "<style scoped>\n",
       "    .dataframe tbody tr th:only-of-type {\n",
       "        vertical-align: middle;\n",
       "    }\n",
       "\n",
       "    .dataframe tbody tr th {\n",
       "        vertical-align: top;\n",
       "    }\n",
       "\n",
       "    .dataframe thead th {\n",
       "        text-align: right;\n",
       "    }\n",
       "</style>\n",
       "<table border=\"1\" class=\"dataframe\">\n",
       "  <thead>\n",
       "    <tr style=\"text-align: right;\">\n",
       "      <th></th>\n",
       "      <th>coef</th>\n",
       "    </tr>\n",
       "  </thead>\n",
       "  <tbody>\n",
       "    <tr>\n",
       "      <th>constant</th>\n",
       "      <td>0.3716</td>\n",
       "    </tr>\n",
       "    <tr>\n",
       "      <th>x</th>\n",
       "      <td>3.0028</td>\n",
       "    </tr>\n",
       "  </tbody>\n",
       "</table>\n",
       "</div>"
      ],
      "text/plain": [
       "            coef\n",
       "constant  0.3716\n",
       "x         3.0028"
      ]
     },
     "execution_count": 22,
     "metadata": {},
     "output_type": "execute_result"
    }
   ],
   "source": [
    "resultsdf = pd.DataFrame({'coef':results['x']})\n",
    "resultsdf.index=['constant','x','sigma']   \n",
    "np.round(resultsdf.head(2), 4)"
   ]
  },
  {
   "cell_type": "markdown",
   "metadata": {},
   "source": [
    "参考：\n",
    "- https://towardsdatascience.com/probability-concepts-explained-maximum-likelihood-estimation-c7b4342fdbb1\n",
    "- https://towardsdatascience.com/a-gentle-introduction-to-maximum-likelihood-estimation-9fbff27ea12f\n",
    "- http://suriyadeepan.github.io/2017-01-22-mle-linear-regression/\n",
    "- https://blog.csdn.net/zengxiantao1994/article/details/72787849\n",
    "- https://www.quantstart.com/articles/Maximum-Likelihood-Estimation-for-Linear-Regression\n",
    "- https://zhuanlan.zhihu.com/p/26614750\n",
    "- https://blog.csdn.net/u011508640/article/details/72815981"
   ]
  }
 ],
 "metadata": {
  "kernelspec": {
   "display_name": "Python 3",
   "language": "python",
   "name": "python3"
  },
  "language_info": {
   "codemirror_mode": {
    "name": "ipython",
    "version": 3
   },
   "file_extension": ".py",
   "mimetype": "text/x-python",
   "name": "python",
   "nbconvert_exporter": "python",
   "pygments_lexer": "ipython3",
   "version": "3.6.5"
  }
 },
 "nbformat": 4,
 "nbformat_minor": 4
}
