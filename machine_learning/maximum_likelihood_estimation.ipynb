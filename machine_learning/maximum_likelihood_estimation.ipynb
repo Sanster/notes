{
 "cells": [
  {
   "cell_type": "markdown",
   "metadata": {},
   "source": [
    "# 最大似然估计\n",
    "\n",
    "最大似然估计是一种用来**估计**模型参数的方法\n",
    "- 采取的准则是：计算出的参数值带入模型后，能够使已知样本（训练集）出现的概率最大。\n",
    "- 假设：样本数据是独立分布的\n",
    "\n",
    "# 直观的理解\n",
    "\n",
    "# 以符合高斯分布的数据为示例\n",
    "假设有如下一组数据：\n",
    "\n",
    "![img1](https://cdn-images-1.medium.com/max/800/1*Z3JJGvEtOjmpLFvmWiUR3Q.png)\n",
    "\n",
    "首先要诀定用哪个模型来描述数据，这一步重要，否则根本不知道要求哪些参数。\n",
    "\n",
    "这里假定这些数据符合 Gaussian 分布，高斯分布有两个参数，均值 $u$ 和标准差 $\\theta$，\n",
    "上面假设的数据应该是符合蓝色的曲线：\n",
    "\n",
    "![img2](https://cdn-images-1.medium.com/max/800/1*uLKl0Nz1vFg6bmfiqpCKZQ.png)\n",
    "\n",
    "**最大似然估计**的作用就是求出均值 $u$ 和标准差 $\\theta$，得到的值称为 $u$ 和 $\\theta$ 的最大估计值（maximum likelihood estimates）。\n",
    "\n",
    "为了求解参数的最大估计值，需要求出数据的总概率密度（probability density），如果样本之间是相关的，则求出的值称为联合概率密度（joint probability distribution），\n",
    "这个值很难求，所以应用最大似然估计都会假设**各个样本是独立分布的**，那么数据的总概率密度可以表示为各个样本的概率密度之积。\n",
    "\n",
    "高斯函数的概率密度函数为：$P(x;u,\\sigma)=\\frac{1}{\\sigma\\sqrt{2\\pi}}exp(-\\frac{(x-u)^2}{2\\sigma^2})$，\n",
    "分号表示 $u$ 和 $\\sigma$ 是我们要求的变量。\n",
    "\n",
    "假设我们的数据只有三个值 $9, 9.5, 11$，则这组数据的总概率密度可以写为：\n",
    "\n",
    "![img3](https://cdn-images-1.medium.com/max/800/1*rFzbQ614IR4zEwBM3k1V0Q.png)\n",
    "\n",
    "上述式子取到最大值时 $u$ 和 $\\sigma$ 的值即为我们要求的最大似然估计值。\n",
    "\n",
    "\n",
    "参考：\n",
    "- https://towardsdatascience.com/probability-concepts-explained-maximum-likelihood-estimation-c7b4342fdbb1\n",
    "- https://towardsdatascience.com/a-gentle-introduction-to-maximum-likelihood-estimation-9fbff27ea12f\n",
    "- http://suriyadeepan.github.io/2017-01-22-mle-linear-regression/\n",
    "- https://blog.csdn.net/zengxiantao1994/article/details/72787849\n",
    "- https://www.quantstart.com/articles/Maximum-Likelihood-Estimation-for-Linear-Regression"
   ]
  }
 ],
 "metadata": {
  "kernelspec": {
   "display_name": "Python 3",
   "language": "python",
   "name": "python3"
  },
  "language_info": {
   "codemirror_mode": {
    "name": "ipython",
    "version": 3
   },
   "file_extension": ".py",
   "mimetype": "text/x-python",
   "name": "python",
   "nbconvert_exporter": "python",
   "pygments_lexer": "ipython3",
   "version": "3.5.2"
  }
 },
 "nbformat": 4,
 "nbformat_minor": 2
}
